{
 "cells": [
  {
   "cell_type": "code",
   "execution_count": 1,
   "metadata": {
    "ExecuteTime": {
     "end_time": "2017-02-27T18:50:12.416126",
     "start_time": "2017-02-27T18:50:12.362753"
    },
    "collapsed": true
   },
   "outputs": [],
   "source": [
    "import numpy as np"
   ]
  },
  {
   "cell_type": "code",
   "execution_count": 2,
   "metadata": {
    "ExecuteTime": {
     "end_time": "2017-02-27T18:50:12.426055",
     "start_time": "2017-02-27T18:50:12.417615"
    },
    "collapsed": true
   },
   "outputs": [],
   "source": [
    "def get_element_count_from_shape(shape):\n",
    "    output = 1\n",
    "    for dimension in shape:\n",
    "        output *= dimension\n",
    "    return output\n",
    "\n",
    "def array_info(input_arr):\n",
    "    print(input_arr)\n",
    "    print('shape:', input_arr.shape, '     elements:', get_element_count_from_shape(input_arr.shape))\n",
    "\n",
    "def reshape_verbose(old_arr, new_shape):\n",
    "    print\n",
    "    print\n",
    "    array_info(old_arr)\n",
    "    new_arr = np.reshape(old_arr, new_shape)\n",
    "    print\n",
    "    print '-> reshape(' + str(new_shape) + ') ->'\n",
    "    print\n",
    "    array_info(new_arr)\n",
    "    print\n",
    "    print\n",
    "    return new_arr\n"
   ]
  },
  {
   "cell_type": "code",
   "execution_count": 3,
   "metadata": {
    "ExecuteTime": {
     "end_time": "2017-02-27T18:50:12.431239",
     "start_time": "2017-02-27T18:50:12.427401"
    },
    "collapsed": false
   },
   "outputs": [
    {
     "name": "stdout",
     "output_type": "stream",
     "text": [
      "[ 0  1  2  3  4  5  6  7  8  9 10 11]\n",
      "('shape:', (12,), '     elements:', 12)\n"
     ]
    }
   ],
   "source": [
    "flat = np.array(range(12))\n",
    "array_info(flat)"
   ]
  },
  {
   "cell_type": "markdown",
   "metadata": {},
   "source": [
    "the shape of flat is [12] (or (12,)) and it holds 12 elements\n",
    "\n",
    "we can reshape it into any other set of dimensions that also hold 12 elements\n",
    "\n",
    "(6, 2) holds 6 * 2 = 12 elements, the same as our flat array. so we can reshape to that new shape\n",
    "\n",
    "same goes for\n",
    "\n",
    "shape (2, 6) = 2 * 6 = 12 elements\n",
    "\n",
    "and\n",
    "\n",
    "shape (2, 2, 3) = 2 \\* 2 \\* 3 = 12 elements"
   ]
  },
  {
   "cell_type": "code",
   "execution_count": 4,
   "metadata": {
    "ExecuteTime": {
     "end_time": "2017-02-27T18:50:12.437040",
     "start_time": "2017-02-27T18:50:12.432570"
    },
    "collapsed": false
   },
   "outputs": [
    {
     "name": "stdout",
     "output_type": "stream",
     "text": [
      "\n",
      "\n",
      "[ 0  1  2  3  4  5  6  7  8  9 10 11]\n",
      "('shape:', (12,), '     elements:', 12)\n",
      "\n",
      "-> reshape([6, 2]) ->\n",
      "\n",
      "[[ 0  1]\n",
      " [ 2  3]\n",
      " [ 4  5]\n",
      " [ 6  7]\n",
      " [ 8  9]\n",
      " [10 11]]\n",
      "('shape:', (6, 2), '     elements:', 12)\n",
      "\n",
      "\n"
     ]
    }
   ],
   "source": [
    "six_two = reshape_verbose(flat, [6, 2])"
   ]
  },
  {
   "cell_type": "code",
   "execution_count": 5,
   "metadata": {
    "ExecuteTime": {
     "end_time": "2017-02-27T18:50:12.442928",
     "start_time": "2017-02-27T18:50:12.438340"
    },
    "collapsed": false
   },
   "outputs": [
    {
     "name": "stdout",
     "output_type": "stream",
     "text": [
      "\n",
      "\n",
      "[ 0  1  2  3  4  5  6  7  8  9 10 11]\n",
      "('shape:', (12,), '     elements:', 12)\n",
      "\n",
      "-> reshape([2, 6]) ->\n",
      "\n",
      "[[ 0  1  2  3  4  5]\n",
      " [ 6  7  8  9 10 11]]\n",
      "('shape:', (2, 6), '     elements:', 12)\n",
      "\n",
      "\n"
     ]
    }
   ],
   "source": [
    "two_six = reshape_verbose(flat, [2, 6])"
   ]
  },
  {
   "cell_type": "code",
   "execution_count": 6,
   "metadata": {
    "ExecuteTime": {
     "end_time": "2017-02-27T18:50:12.448399",
     "start_time": "2017-02-27T18:50:12.444141"
    },
    "collapsed": false
   },
   "outputs": [
    {
     "name": "stdout",
     "output_type": "stream",
     "text": [
      "\n",
      "\n",
      "[ 0  1  2  3  4  5  6  7  8  9 10 11]\n",
      "('shape:', (12,), '     elements:', 12)\n",
      "\n",
      "-> reshape([2, 2, 3]) ->\n",
      "\n",
      "[[[ 0  1  2]\n",
      "  [ 3  4  5]]\n",
      "\n",
      " [[ 6  7  8]\n",
      "  [ 9 10 11]]]\n",
      "('shape:', (2, 2, 3), '     elements:', 12)\n",
      "\n",
      "\n"
     ]
    }
   ],
   "source": [
    "two_two_three = reshape_verbose(flat, [2, 2, 3])"
   ]
  },
  {
   "cell_type": "markdown",
   "metadata": {},
   "source": [
    "I read that the underlying memory is unchanged after reshaping, that means we should be able to shape all of the arrays we just generated in to equal arrays of a specific dimension. Let's test that"
   ]
  },
  {
   "cell_type": "code",
   "execution_count": 7,
   "metadata": {
    "ExecuteTime": {
     "end_time": "2017-02-27T18:50:12.457008",
     "start_time": "2017-02-27T18:50:12.449541"
    },
    "collapsed": false
   },
   "outputs": [
    {
     "name": "stdout",
     "output_type": "stream",
     "text": [
      "('all of the different sources ended up the same when reshaped:', True)\n"
     ]
    }
   ],
   "source": [
    "destination_dims = [3, 2, 2]\n",
    "maybe_equal_three_two_twos = []\n",
    "maybe_equal_three_two_twos.append(np.reshape(flat, destination_dims))\n",
    "maybe_equal_three_two_twos.append(np.reshape(six_two, destination_dims))\n",
    "maybe_equal_three_two_twos.append(np.reshape(two_six, destination_dims))\n",
    "maybe_equal_three_two_twos.append(np.reshape(two_two_three, destination_dims))\n",
    "# maybe_equal_three_two_twos.append(reshape_verbose(two_two_three, destination_dims))\n",
    "\n",
    "are_all_equal = True\n",
    "for arrA in maybe_equal_three_two_twos:\n",
    "    for arrB in maybe_equal_three_two_twos:\n",
    "        are_all_equal = are_all_equal and np.array_equal(arrA, arrB)\n",
    "print('all of the different sources ended up the same when reshaped:', are_all_equal)"
   ]
  },
  {
   "cell_type": "markdown",
   "metadata": {},
   "source": [
    "I have seen reshape (array, [dim1, dim2]) and also (array (dim1, dim2)), are these the same?"
   ]
  },
  {
   "cell_type": "code",
   "execution_count": 8,
   "metadata": {
    "ExecuteTime": {
     "end_time": "2017-02-27T18:50:12.465175",
     "start_time": "2017-02-27T18:50:12.458294"
    },
    "collapsed": false
   },
   "outputs": [
    {
     "name": "stdout",
     "output_type": "stream",
     "text": [
      "\n",
      "\n",
      "[[[ 0  1  2]\n",
      "  [ 3  4  5]]\n",
      "\n",
      " [[ 6  7  8]\n",
      "  [ 9 10 11]]]\n",
      "('shape:', (2, 2, 3), '     elements:', 12)\n",
      "\n",
      "-> reshape([4, 3]) ->\n",
      "\n",
      "[[ 0  1  2]\n",
      " [ 3  4  5]\n",
      " [ 6  7  8]\n",
      " [ 9 10 11]]\n",
      "('shape:', (4, 3), '     elements:', 12)\n",
      "\n",
      "\n",
      "\n",
      "\n",
      "[[[ 0  1  2]\n",
      "  [ 3  4  5]]\n",
      "\n",
      " [[ 6  7  8]\n",
      "  [ 9 10 11]]]\n",
      "('shape:', (2, 2, 3), '     elements:', 12)\n",
      "\n",
      "-> reshape((4, 3)) ->\n",
      "\n",
      "[[ 0  1  2]\n",
      " [ 3  4  5]\n",
      " [ 6  7  8]\n",
      " [ 9 10 11]]\n",
      "('shape:', (4, 3), '     elements:', 12)\n",
      "\n",
      "\n",
      "('[] is the same as () :', True)\n"
     ]
    }
   ],
   "source": [
    "four_three = reshape_verbose(two_two_three, [4, 3])\n",
    "four_three_alt = reshape_verbose(two_two_three, (4, 3))\n",
    "\n",
    "print('[] is the same as () :', np.array_equal(four_three, four_three_alt))"
   ]
  },
  {
   "cell_type": "markdown",
   "metadata": {},
   "source": [
    "I saw something like array.reshape((-1, 12)), what is that -1 doing?"
   ]
  },
  {
   "cell_type": "code",
   "execution_count": 9,
   "metadata": {
    "ExecuteTime": {
     "end_time": "2017-02-27T18:50:12.478713",
     "start_time": "2017-02-27T18:50:12.466350"
    },
    "collapsed": false
   },
   "outputs": [
    {
     "name": "stdout",
     "output_type": "stream",
     "text": [
      "\n",
      "\n",
      "[ 0  1  2  3  4  5  6  7  8  9 10 11]\n",
      "('shape:', (12,), '     elements:', 12)\n",
      "\n",
      "-> reshape((-1, 1)) ->\n",
      "\n",
      "[[ 0]\n",
      " [ 1]\n",
      " [ 2]\n",
      " [ 3]\n",
      " [ 4]\n",
      " [ 5]\n",
      " [ 6]\n",
      " [ 7]\n",
      " [ 8]\n",
      " [ 9]\n",
      " [10]\n",
      " [11]]\n",
      "('shape:', (12, 1), '     elements:', 12)\n",
      "\n",
      "\n",
      "\n",
      "\n",
      "[ 0  1  2  3  4  5  6  7  8  9 10 11]\n",
      "('shape:', (12,), '     elements:', 12)\n",
      "\n",
      "-> reshape((-1, 2)) ->\n",
      "\n",
      "[[ 0  1]\n",
      " [ 2  3]\n",
      " [ 4  5]\n",
      " [ 6  7]\n",
      " [ 8  9]\n",
      " [10 11]]\n",
      "('shape:', (6, 2), '     elements:', 12)\n",
      "\n",
      "\n",
      "\n",
      "\n",
      "[ 0  1  2  3  4  5  6  7  8  9 10 11]\n",
      "('shape:', (12,), '     elements:', 12)\n",
      "\n",
      "-> reshape((-1, 3)) ->\n",
      "\n",
      "[[ 0  1  2]\n",
      " [ 3  4  5]\n",
      " [ 6  7  8]\n",
      " [ 9 10 11]]\n",
      "('shape:', (4, 3), '     elements:', 12)\n",
      "\n",
      "\n",
      "\n",
      "\n",
      "[ 0  1  2  3  4  5  6  7  8  9 10 11]\n",
      "('shape:', (12,), '     elements:', 12)\n",
      "\n",
      "-> reshape((1, -1)) ->\n",
      "\n",
      "[[ 0  1  2  3  4  5  6  7  8  9 10 11]]\n",
      "('shape:', (1, 12), '     elements:', 12)\n",
      "\n",
      "\n",
      "\n",
      "\n",
      "[ 0  1  2  3  4  5  6  7  8  9 10 11]\n",
      "('shape:', (12,), '     elements:', 12)\n",
      "\n",
      "-> reshape((2, -1)) ->\n",
      "\n",
      "[[ 0  1  2  3  4  5]\n",
      " [ 6  7  8  9 10 11]]\n",
      "('shape:', (2, 6), '     elements:', 12)\n",
      "\n",
      "\n",
      "\n",
      "\n",
      "[ 0  1  2  3  4  5  6  7  8  9 10 11]\n",
      "('shape:', (12,), '     elements:', 12)\n",
      "\n",
      "-> reshape((3, -1)) ->\n",
      "\n",
      "[[ 0  1  2  3]\n",
      " [ 4  5  6  7]\n",
      " [ 8  9 10 11]]\n",
      "('shape:', (3, 4), '     elements:', 12)\n",
      "\n",
      "\n",
      "\n"
     ]
    }
   ],
   "source": [
    "reshape_verbose(flat, (-1, 1))\n",
    "reshape_verbose(flat, (-1, 2))\n",
    "reshape_verbose(flat, (-1, 3))\n",
    "reshape_verbose(flat, (1, -1))\n",
    "reshape_verbose(flat, (2, -1))\n",
    "reshape_verbose(flat, (3, -1))\n",
    "print #prevent output"
   ]
  },
  {
   "cell_type": "markdown",
   "metadata": {},
   "source": [
    "looks like a negative number stretches to fit your set. specifically, it ends up equal to ##elements in array / (product of other dimensions)"
   ]
  },
  {
   "cell_type": "markdown",
   "metadata": {},
   "source": [
    "You can multiply anything by 1 as many times as you want and it won't change. What happens if you add extra dimensions of 1?"
   ]
  },
  {
   "cell_type": "code",
   "execution_count": 10,
   "metadata": {
    "ExecuteTime": {
     "end_time": "2017-02-27T18:50:12.498037",
     "start_time": "2017-02-27T18:50:12.480424"
    },
    "collapsed": false
   },
   "outputs": [
    {
     "name": "stdout",
     "output_type": "stream",
     "text": [
      "\n",
      "\n",
      "[ 0  1  2  3  4  5  6  7  8  9 10 11]\n",
      "('shape:', (12,), '     elements:', 12)\n",
      "\n",
      "-> reshape([1, 12]) ->\n",
      "\n",
      "[[ 0  1  2  3  4  5  6  7  8  9 10 11]]\n",
      "('shape:', (1, 12), '     elements:', 12)\n",
      "\n",
      "\n",
      "\n",
      "\n",
      "[ 0  1  2  3  4  5  6  7  8  9 10 11]\n",
      "('shape:', (12,), '     elements:', 12)\n",
      "\n",
      "-> reshape([12, 1]) ->\n",
      "\n",
      "[[ 0]\n",
      " [ 1]\n",
      " [ 2]\n",
      " [ 3]\n",
      " [ 4]\n",
      " [ 5]\n",
      " [ 6]\n",
      " [ 7]\n",
      " [ 8]\n",
      " [ 9]\n",
      " [10]\n",
      " [11]]\n",
      "('shape:', (12, 1), '     elements:', 12)\n",
      "\n",
      "\n",
      "\n",
      "\n",
      "[ 0  1  2  3  4  5  6  7  8  9 10 11]\n",
      "('shape:', (12,), '     elements:', 12)\n",
      "\n",
      "-> reshape([12, 1, 1]) ->\n",
      "\n",
      "[[[ 0]]\n",
      "\n",
      " [[ 1]]\n",
      "\n",
      " [[ 2]]\n",
      "\n",
      " [[ 3]]\n",
      "\n",
      " [[ 4]]\n",
      "\n",
      " [[ 5]]\n",
      "\n",
      " [[ 6]]\n",
      "\n",
      " [[ 7]]\n",
      "\n",
      " [[ 8]]\n",
      "\n",
      " [[ 9]]\n",
      "\n",
      " [[10]]\n",
      "\n",
      " [[11]]]\n",
      "('shape:', (12, 1, 1), '     elements:', 12)\n",
      "\n",
      "\n",
      "\n",
      "\n",
      "[ 0  1  2  3  4  5  6  7  8  9 10 11]\n",
      "('shape:', (12,), '     elements:', 12)\n",
      "\n",
      "-> reshape([1, 1, 12]) ->\n",
      "\n",
      "[[[ 0  1  2  3  4  5  6  7  8  9 10 11]]]\n",
      "('shape:', (1, 1, 12), '     elements:', 12)\n",
      "\n",
      "\n",
      "\n",
      "\n",
      "[ 0  1  2  3  4  5  6  7  8  9 10 11]\n",
      "('shape:', (12,), '     elements:', 12)\n",
      "\n",
      "-> reshape([1, 12, 1]) ->\n",
      "\n",
      "[[[ 0]\n",
      "  [ 1]\n",
      "  [ 2]\n",
      "  [ 3]\n",
      "  [ 4]\n",
      "  [ 5]\n",
      "  [ 6]\n",
      "  [ 7]\n",
      "  [ 8]\n",
      "  [ 9]\n",
      "  [10]\n",
      "  [11]]]\n",
      "('shape:', (1, 12, 1), '     elements:', 12)\n",
      "\n",
      "\n",
      "\n"
     ]
    }
   ],
   "source": [
    "reshape_verbose(flat, [1, 12])\n",
    "reshape_verbose(flat, [12, 1])\n",
    "reshape_verbose(flat, [12, 1, 1])\n",
    "reshape_verbose(flat, [1, 1, 12])\n",
    "reshape_verbose(flat, [1, 12, 1])\n",
    "print # prevent output"
   ]
  }
 ],
 "metadata": {
  "_draft": {
   "nbviewer_url": "https://gist.github.com/ce0baef2a9b7793f2bff7c800248a44e"
  },
  "gist": {
   "data": {
    "description": "reshape.ipynb",
    "public": true
   },
   "id": "ce0baef2a9b7793f2bff7c800248a44e"
  },
  "kernelspec": {
   "display_name": "Python 2",
   "language": "python",
   "name": "python2"
  },
  "language_info": {
   "codemirror_mode": {
    "name": "ipython",
    "version": 2
   },
   "file_extension": ".py",
   "mimetype": "text/x-python",
   "name": "python",
   "nbconvert_exporter": "python",
   "pygments_lexer": "ipython2",
   "version": "2.7.13"
  },
  "toc": {
   "colors": {
    "hover_highlight": "#DAA520",
    "running_highlight": "#FF0000",
    "selected_highlight": "#FFD700"
   },
   "moveMenuLeft": true,
   "nav_menu": {
    "height": "12px",
    "width": "252px"
   },
   "navigate_menu": true,
   "number_sections": true,
   "sideBar": true,
   "threshold": 4,
   "toc_cell": false,
   "toc_section_display": "block",
   "toc_window_display": false
  }
 },
 "nbformat": 4,
 "nbformat_minor": 2
}
