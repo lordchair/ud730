{
 "cells": [
  {
   "cell_type": "markdown",
   "metadata": {
    "colab_type": "text",
    "id": "kR-4eNdK6lYS"
   },
   "source": [
    "Deep Learning\n",
    "=============\n",
    "\n",
    "Assignment 3\n",
    "------------\n",
    "\n",
    "Previously in `2_fullyconnected.ipynb`, you trained a logistic regression and a neural network model.\n",
    "\n",
    "The goal of this assignment is to explore regularization techniques."
   ]
  },
  {
   "cell_type": "code",
   "execution_count": 1,
   "metadata": {
    "ExecuteTime": {
     "end_time": "2017-02-11T00:51:06.730269",
     "start_time": "2017-02-11T00:51:05.559663"
    },
    "cellView": "both",
    "colab": {
     "autoexec": {
      "startup": false,
      "wait_interval": 0
     }
    },
    "colab_type": "code",
    "collapsed": true,
    "id": "JLpLa8Jt7Vu4"
   },
   "outputs": [],
   "source": [
    "# These are all the modules we'll be using later. Make sure you can import them\n",
    "# before proceeding further.\n",
    "from __future__ import print_function\n",
    "import numpy as np\n",
    "import tensorflow as tf\n",
    "from timeit import default_timer as timer\n",
    "from six.moves import cPickle as pickle"
   ]
  },
  {
   "cell_type": "markdown",
   "metadata": {
    "colab_type": "text",
    "id": "1HrCK6e17WzV"
   },
   "source": [
    "First reload the data we generated in `1_notmnist.ipynb`."
   ]
  },
  {
   "cell_type": "code",
   "execution_count": 5,
   "metadata": {
    "ExecuteTime": {
     "end_time": "2017-02-11T00:52:05.167002",
     "start_time": "2017-02-11T00:52:03.527108"
    },
    "cellView": "both",
    "colab": {
     "autoexec": {
      "startup": false,
      "wait_interval": 0
     },
     "output_extras": [
      {
       "item_id": 1
      }
     ]
    },
    "colab_type": "code",
    "collapsed": false,
    "executionInfo": {
     "elapsed": 11777,
     "status": "ok",
     "timestamp": 1449849322348,
     "user": {
      "color": "",
      "displayName": "",
      "isAnonymous": false,
      "isMe": true,
      "permissionId": "",
      "photoUrl": "",
      "sessionId": "0",
      "userId": ""
     },
     "user_tz": 480
    },
    "id": "y3-cj1bpmuxc",
    "outputId": "e03576f1-ebbe-4838-c388-f1777bcc9873"
   },
   "outputs": [
    {
     "name": "stdout",
     "output_type": "stream",
     "text": [
      "Training set (200000, 28, 28) (200000,)\n",
      "Validation set (10000, 28, 28) (10000,)\n",
      "Test set (10000, 28, 28) (10000,)\n"
     ]
    }
   ],
   "source": [
    "pickle_file = 'notMNIST.pickle'\n",
    "\n",
    "\n",
    "def load_data(data):\n",
    "    global test_dataset\n",
    "    test_dataset = data[0][1]\n",
    "    global test_labels\n",
    "    test_labels = data[0][2]\n",
    "    global valid_dataset\n",
    "    valid_dataset = data[1][1]\n",
    "    global valid_labels\n",
    "    valid_labels = data[1][2]\n",
    "    global train_dataset\n",
    "    train_dataset = data[2][1]\n",
    "    global train_labels\n",
    "    train_labels = data[2][2]\n",
    "    \n",
    "def print_data_shape():\n",
    "    print('Training set', train_dataset.shape, train_labels.shape)\n",
    "    print('Validation set', valid_dataset.shape, valid_labels.shape)\n",
    "    print('Test set', test_dataset.shape, test_labels.shape)\n",
    "\n",
    "with open(pickle_file, 'rb') as f:\n",
    "    sets = pickle.load(f)\n",
    "    load_data(sets['unsanitized'])\n",
    "    del sets  # hint to help gc free up memory\n",
    "    print_data_shape()\n",
    "    \n"
   ]
  },
  {
   "cell_type": "markdown",
   "metadata": {
    "colab_type": "text",
    "id": "L7aHrm6nGDMB"
   },
   "source": [
    "Reformat into a shape that's more adapted to the models we're going to train:\n",
    "- data as a flat matrix,\n",
    "- labels as float 1-hot encodings."
   ]
  },
  {
   "cell_type": "code",
   "execution_count": 6,
   "metadata": {
    "ExecuteTime": {
     "end_time": "2017-02-11T00:52:09.752530",
     "start_time": "2017-02-11T00:52:09.309222"
    },
    "cellView": "both",
    "colab": {
     "autoexec": {
      "startup": false,
      "wait_interval": 0
     },
     "output_extras": [
      {
       "item_id": 1
      }
     ]
    },
    "colab_type": "code",
    "collapsed": false,
    "executionInfo": {
     "elapsed": 11728,
     "status": "ok",
     "timestamp": 1449849322356,
     "user": {
      "color": "",
      "displayName": "",
      "isAnonymous": false,
      "isMe": true,
      "permissionId": "",
      "photoUrl": "",
      "sessionId": "0",
      "userId": ""
     },
     "user_tz": 480
    },
    "id": "IRSyYiIIGIzS",
    "outputId": "3f8996ee-3574-4f44-c953-5c8a04636582"
   },
   "outputs": [
    {
     "name": "stdout",
     "output_type": "stream",
     "text": [
      "Training set (200000, 784) (200000, 10)\n",
      "Validation set (10000, 784) (10000, 10)\n",
      "Test set (10000, 784) (10000, 10)\n"
     ]
    }
   ],
   "source": [
    "image_size = 28\n",
    "num_labels = 10\n",
    "\n",
    "def reformat(dataset, labels):\n",
    "    dataset = dataset.reshape((-1, image_size * image_size)).astype(np.float32)\n",
    "    # Map 1 to [0.0, 1.0, 0.0 ...], 2 to [0.0, 0.0, 1.0 ...]\n",
    "    labels = (np.arange(num_labels) == labels[:,None]).astype(np.float32)\n",
    "    return dataset, labels\n",
    "train_dataset, train_labels = reformat(train_dataset, train_labels)\n",
    "valid_dataset, valid_labels = reformat(valid_dataset, valid_labels)\n",
    "test_dataset, test_labels = reformat(test_dataset, test_labels)\n",
    "print('Training set', train_dataset.shape, train_labels.shape)\n",
    "print('Validation set', valid_dataset.shape, valid_labels.shape)\n",
    "print('Test set', test_dataset.shape, test_labels.shape)"
   ]
  },
  {
   "cell_type": "code",
   "execution_count": 65,
   "metadata": {
    "ExecuteTime": {
     "end_time": "2017-02-11T07:59:50.289170",
     "start_time": "2017-02-11T07:59:50.273662"
    },
    "cellView": "both",
    "colab": {
     "autoexec": {
      "startup": false,
      "wait_interval": 0
     }
    },
    "colab_type": "code",
    "collapsed": true,
    "id": "RajPLaL_ZW6w"
   },
   "outputs": [],
   "source": [
    "def accuracy(predictions, labels):\n",
    "    return (100.0 * np.sum(np.argmax(predictions, 1) == np.argmax(labels, 1)) / predictions.shape[0])\n",
    "\n",
    "def make_weights(shape):\n",
    "    return tf.Variable(tf.truncated_normal(shape, stddev=0.1))\n",
    "\n",
    "def make_xavier_weights(shape, name):\n",
    "    return tf.get_variable(name, shape, initializer=tf.contrib.layers.xavier_initializer())\n",
    "\n",
    "def make_bias(shape, constant=0.1):\n",
    "    return tf.Variable(tf.constant(constant, shape=shape))\n",
    "\n",
    "iteration_log = []\n",
    "def log_step(start_time, duration, progress, loss, batch_acc, valid_acc=False, test_acc=False):\n",
    "    iteration_log.append([start_time, duration, progress, loss, batch_acc, valid_acc, test_acc])\n",
    "    print('>>>>>', int(progress * 100), '% done')\n",
    "    print(\"time to execute last %d minibatches: %f\" % (int(num_steps / num_prints), duration))\n",
    "    print()\n",
    "    print(\"loss of last minibatch %f\" % loss)\n",
    "    print(\"accuracy on last minibatch: %.1f%%\" % batch_acc)\n",
    "    print()\n",
    "    if (valid_acc):\n",
    "        print(\"model's current accuracy against validation data : %.1f%%\" % valid_acc)\n",
    "    if (test_acc):\n",
    "        print(\"model's current accuracy against test data       : %.1f%%\" % test_acc)\n",
    "    print()"
   ]
  },
  {
   "cell_type": "markdown",
   "metadata": {
    "colab_type": "text",
    "id": "sgLbUAQ1CW-1"
   },
   "source": [
    "---\n",
    "Problem 1\n",
    "---------\n",
    "\n",
    "Introduce and tune L2 regularization for both logistic and neural network models. Remember that L2 amounts to adding a penalty on the norm of the weights to the loss. In TensorFlow, you can compute the L2 loss for a tensor `t` using `nn.l2_loss(t)`. The right amount of regularization should improve your validation / test accuracy.\n",
    "\n",
    "---"
   ]
  },
  {
   "cell_type": "code",
   "execution_count": 72,
   "metadata": {
    "ExecuteTime": {
     "end_time": "2017-02-11T08:02:43.171498",
     "start_time": "2017-02-11T08:02:42.886521"
    },
    "code_folding": [],
    "collapsed": false
   },
   "outputs": [],
   "source": [
    "batch_size = 128\n",
    "num_relus = 1024\n",
    "beta_loss_coefficient = .0001\n",
    "\n",
    "graph = tf.Graph()\n",
    "with graph.as_default():\n",
    "\n",
    "    # Input data. For the training data, we use a placeholder that will be fed\n",
    "    # at run time with a training minibatch.\n",
    "    tf_train_dataset = tf.placeholder(tf.float32, shape=(batch_size, image_size * image_size))\n",
    "    tf_train_labels = tf.placeholder(tf.float32, shape=(batch_size, num_labels))\n",
    "    tf_valid_dataset = tf.constant(valid_dataset)\n",
    "    tf_test_dataset = tf.constant(test_dataset)\n",
    "    \n",
    "    # Variables.\n",
    "    \n",
    "    step1_weights = make_weights([image_size * image_size, num_relus])\n",
    "    step1_biases = make_bias([num_relus])\n",
    "    \n",
    "    step2_weights = make_weights([num_relus, num_labels])\n",
    "    step2_biases = make_bias([num_labels])\n",
    "    \n",
    "    # Training computation.\n",
    "    def run_on_data(data):\n",
    "        step1_logits = tf.matmul(data, step1_weights) + step1_biases\n",
    "        intermediate_step = tf.nn.relu(step1_logits)\n",
    "        my_logits = tf.matmul(intermediate_step, step2_weights) + step2_biases\n",
    "        return my_logits\n",
    "    \n",
    "    logits = run_on_data(tf_train_dataset)\n",
    "    \n",
    "    loss = tf.reduce_mean(\n",
    "        tf.nn.softmax_cross_entropy_with_logits(labels=tf_train_labels, logits=logits)\n",
    "        + beta_loss_coefficient * tf.nn.l2_loss(step1_weights)\n",
    "        + beta_loss_coefficient * tf.nn.l2_loss(step1_biases)\n",
    "        + beta_loss_coefficient * tf.nn.l2_loss(step2_weights)\n",
    "        + beta_loss_coefficient * tf.nn.l2_loss(step2_biases)\n",
    "    )\n",
    "    \n",
    "    # Optimizer.\n",
    "    optimizer = tf.train.GradientDescentOptimizer(0.5).minimize(loss)\n",
    "    \n",
    "    # Predictions for the training, validation, and test data.\n",
    "    train_prediction = tf.nn.softmax(logits)\n",
    "    valid_prediction = tf.nn.softmax(run_on_data(tf_valid_dataset))\n",
    "    test_prediction = tf.nn.softmax(run_on_data(tf_test_dataset))\n"
   ]
  },
  {
   "cell_type": "code",
   "execution_count": 73,
   "metadata": {
    "ExecuteTime": {
     "end_time": "2017-02-11T08:02:52.365185",
     "start_time": "2017-02-11T08:02:45.511092"
    },
    "collapsed": false
   },
   "outputs": [
    {
     "name": "stdout",
     "output_type": "stream",
     "text": [
      "Initialized\n",
      ">>>>> 0 % done\n",
      "time to execute last 100 minibatches: 0.251619\n",
      "\n",
      "loss of last minibatch 4.701335\n",
      "accuracy on last minibatch: 9.4%\n",
      "\n",
      "model's current accuracy against validation data : 33.2%\n",
      "model's current accuracy against test data       : 36.6%\n",
      "\n",
      ">>>>> 0 % done\n",
      "time to execute last 100 minibatches: 0.837236\n",
      "\n",
      "loss of last minibatch 1.095881\n",
      "accuracy on last minibatch: 78.1%\n",
      "\n",
      "model's current accuracy against validation data : 80.2%\n",
      "model's current accuracy against test data       : 86.7%\n",
      "\n",
      ">>>>> 0 % done\n",
      "time to execute last 100 minibatches: 0.889032\n",
      "\n",
      "loss of last minibatch 1.127286\n",
      "accuracy on last minibatch: 80.5%\n",
      "\n",
      "model's current accuracy against validation data : 81.3%\n",
      "model's current accuracy against test data       : 87.8%\n",
      "\n",
      ">>>>> 0 % done\n",
      "time to execute last 100 minibatches: 0.887082\n",
      "\n",
      "loss of last minibatch 0.900016\n",
      "accuracy on last minibatch: 83.6%\n",
      "\n",
      "model's current accuracy against validation data : 83.9%\n",
      "model's current accuracy against test data       : 90.7%\n",
      "\n",
      ">>>>> 0 % done\n",
      "time to execute last 100 minibatches: 0.880178\n",
      "\n",
      "loss of last minibatch 0.917824\n",
      "accuracy on last minibatch: 85.9%\n",
      "\n",
      "model's current accuracy against validation data : 84.7%\n",
      "model's current accuracy against test data       : 91.5%\n",
      "\n",
      "\n",
      "Total time for 500 iterations: 6\n"
     ]
    }
   ],
   "source": [
    "num_steps = 500\n",
    "num_prints = 5\n",
    "beta_loss_coefficient = .0001\n",
    "\n",
    "with tf.Session(graph=graph) as session:\n",
    "    initial_time = timer()\n",
    "    start = timer()\n",
    "    tf.global_variables_initializer().run()\n",
    "    print(\"Initialized\")\n",
    "    for step in range(num_steps):\n",
    "        # Pick an offset within the training data, which has been randomized. # Note: we could use better randomization across epochs.\n",
    "        offset = (step * batch_size) % (train_labels.shape[0] - batch_size)\n",
    "        # Generate a minibatch.\n",
    "        batch_data = train_dataset[offset:(offset + batch_size), :]\n",
    "        batch_labels = train_labels[offset:(offset + batch_size), :]\n",
    "        # Prepare a dictionary telling the session where to feed the minibatch. # The key of the dictionary is the placeholder node of the graph to be fed, # and the value is the numpy array to feed to it.\n",
    "        feed_dict = {tf_train_dataset : batch_data, tf_train_labels : batch_labels}\n",
    "        \n",
    "        # run\n",
    "        _, l, predictions = session.run([optimizer, loss, train_prediction], feed_dict=feed_dict)\n",
    "        \n",
    "        if (step % int(num_steps / num_prints) == 0):\n",
    "            end = timer()\n",
    "            log_step(start, end - start, step / num_steps, l,\n",
    "              accuracy(predictions, batch_labels),\n",
    "              accuracy(valid_prediction.eval(), valid_labels),\n",
    "              accuracy(test_prediction.eval(), test_labels)\n",
    "            )\n",
    "            start = timer()\n",
    "    print()\n",
    "    print(\"Total time for %d iterations: %d\" % (num_steps, timer() - initial_time))\n"
   ]
  },
  {
   "cell_type": "markdown",
   "metadata": {
    "colab_type": "text",
    "id": "na8xX2yHZzNF"
   },
   "source": [
    "---\n",
    "Problem 2\n",
    "---------\n",
    "Let's demonstrate an extreme case of overfitting. Restrict your training data to just a few batches. What happens?\n",
    "\n",
    "---"
   ]
  },
  {
   "cell_type": "code",
   "execution_count": 74,
   "metadata": {
    "ExecuteTime": {
     "end_time": "2017-02-11T08:03:04.605066",
     "start_time": "2017-02-11T08:03:01.810659"
    },
    "collapsed": false
   },
   "outputs": [
    {
     "name": "stdout",
     "output_type": "stream",
     "text": [
      "Initialized\n",
      ">>>>> 0 % done\n",
      "time to execute last 1 minibatches: 0.235606\n",
      "\n",
      "loss of last minibatch 4.392150\n",
      "accuracy on last minibatch: 4.7%\n",
      "\n",
      "model's current accuracy against validation data : 31.0%\n",
      "model's current accuracy against test data       : 33.2%\n",
      "\n",
      ">>>>> 0 % done\n",
      "time to execute last 1 minibatches: 0.008789\n",
      "\n",
      "loss of last minibatch 10.717555\n",
      "accuracy on last minibatch: 28.9%\n",
      "\n",
      "model's current accuracy against validation data : 38.8%\n",
      "model's current accuracy against test data       : 42.2%\n",
      "\n",
      ">>>>> 0 % done\n",
      "time to execute last 1 minibatches: 0.009116\n",
      "\n",
      "loss of last minibatch 18.730267\n",
      "accuracy on last minibatch: 37.5%\n",
      "\n",
      "model's current accuracy against validation data : 38.1%\n",
      "model's current accuracy against test data       : 40.3%\n",
      "\n",
      ">>>>> 0 % done\n",
      "time to execute last 1 minibatches: 0.009430\n",
      "\n",
      "loss of last minibatch 11.825046\n",
      "accuracy on last minibatch: 35.2%\n",
      "\n",
      "model's current accuracy against validation data : 37.9%\n",
      "model's current accuracy against test data       : 41.3%\n",
      "\n",
      ">>>>> 0 % done\n",
      "time to execute last 1 minibatches: 0.009070\n",
      "\n",
      "loss of last minibatch 7.620472\n",
      "accuracy on last minibatch: 39.8%\n",
      "\n",
      "model's current accuracy against validation data : 52.3%\n",
      "model's current accuracy against test data       : 57.3%\n",
      "\n",
      "\n",
      "Total time for 5 iterations: 2\n"
     ]
    }
   ],
   "source": [
    "num_steps = 5\n",
    "num_prints = 5\n",
    "beta_loss_coefficient = .0001\n",
    "\n",
    "with tf.Session(graph=graph) as session:\n",
    "    initial_time = timer()\n",
    "    start = timer()\n",
    "    tf.global_variables_initializer().run()\n",
    "    print(\"Initialized\")\n",
    "    for step in range(num_steps):\n",
    "        # Pick an offset within the training data, which has been randomized.\n",
    "        # Note: we could use better randomization across epochs.\n",
    "        offset = (step * batch_size) % (train_labels.shape[0] - batch_size)\n",
    "        # Generate a minibatch.\n",
    "        batch_data = train_dataset[offset:(offset + batch_size), :]\n",
    "        batch_labels = train_labels[offset:(offset + batch_size), :]\n",
    "        # Prepare a dictionary telling the session where to feed the minibatch.\n",
    "        # The key of the dictionary is the placeholder node of the graph to be fed,\n",
    "        # and the value is the numpy array to feed to it.\n",
    "        feed_dict = {tf_train_dataset : batch_data, tf_train_labels : batch_labels}\n",
    "        \n",
    "        \n",
    "        # run\n",
    "        _, l, predictions = session.run([optimizer, loss, train_prediction], feed_dict=feed_dict)\n",
    "        \n",
    "        \n",
    "        if (step % int(num_steps / num_prints) == 0):\n",
    "            end = timer()\n",
    "            log_step(start, end - start, step / num_steps, l,\n",
    "              accuracy(predictions, batch_labels),\n",
    "              accuracy(valid_prediction.eval(), valid_labels),\n",
    "              accuracy(test_prediction.eval(), test_labels)\n",
    "            )\n",
    "            start = timer()\n",
    "    print()\n",
    "    print(\"Total time for %d iterations: %d\" % (num_steps, timer() - initial_time))\n"
   ]
  },
  {
   "cell_type": "markdown",
   "metadata": {
    "colab_type": "text",
    "id": "ww3SCBUdlkRc"
   },
   "source": [
    "---\n",
    "Problem 3\n",
    "---------\n",
    "Introduce Dropout on the hidden layer of the neural network. Remember: Dropout should only be introduced during training, not evaluation, otherwise your evaluation results would be stochastic as well. TensorFlow provides `nn.dropout()` for that, but you have to make sure it's only inserted during training.\n",
    "\n",
    "What happens to our extreme overfitting case?\n",
    "\n",
    "---"
   ]
  },
  {
   "cell_type": "markdown",
   "metadata": {
    "colab_type": "text",
    "id": "-b1hTz3VWZjw"
   },
   "source": [
    "---\n",
    "Problem 4\n",
    "---------\n",
    "\n",
    "Try to get the best performance you can using a multi-layer model! The best reported test accuracy using a deep network is [97.1%](http://yaroslavvb.blogspot.com/2011/09/notmnist-dataset.html?showComment=1391023266211#c8758720086795711595).\n",
    "\n",
    "One avenue you can explore is to add multiple layers.\n",
    "\n",
    "Another one is to use learning rate decay:\n",
    "\n",
    "    global_step = tf.Variable(0)  # count the number of steps taken.\n",
    "    learning_rate = tf.train.exponential_decay(0.5, global_step, ...)\n",
    "    optimizer = tf.train.GradientDescentOptimizer(learning_rate).minimize(loss, global_step=global_step)\n",
    " \n",
    " ---\n"
   ]
  },
  {
   "cell_type": "code",
   "execution_count": 75,
   "metadata": {
    "ExecuteTime": {
     "end_time": "2017-02-11T08:03:47.607562",
     "start_time": "2017-02-11T08:03:46.948430"
    },
    "collapsed": false
   },
   "outputs": [],
   "source": [
    "batch_size = 128\n",
    "num_relus = 1024\n",
    "start_learning_rate = 0.1\n",
    "beta_loss_coefficient = 0.001\n",
    "\n",
    "layer_shape = [image_size * image_size, 1024, 1024, 1024, num_labels]\n",
    "\n",
    "graph = tf.Graph()\n",
    "with graph.as_default():\n",
    "\n",
    "    # Input data. For the training data, we use a placeholder that will be fed\n",
    "    # at run time with a training minibatch.\n",
    "    tf_train_dataset = tf.placeholder(tf.float32, shape=(batch_size, image_size * image_size))\n",
    "    tf_train_labels = tf.placeholder(tf.float32, shape=(batch_size, num_labels))\n",
    "    tf_valid_dataset = tf.constant(valid_dataset)\n",
    "    tf_test_dataset = tf.constant(test_dataset)\n",
    "    \n",
    "    # Variables.\n",
    "    \n",
    "    weights = [];\n",
    "    biases = [];\n",
    "    \n",
    "    for i in range(len(layer_shape) - 1):\n",
    "        weights.append(make_xavier_weights([layer_shape[i], layer_shape[i+1]], 'xavier%d'%i))\n",
    "        biases.append(make_bias([layer_shape[i+1]]))\n",
    "    \n",
    "    # Training computation.\n",
    "    def run_on_data(data, do_dropout = False):\n",
    "        logits = tf.matmul(data, weights[0]) + biases[0]\n",
    "        for i in range(len(layer_shape) - 2):\n",
    "            hidden_layer = tf.nn.relu(logits)\n",
    "            if (do_dropout):\n",
    "                hidden_layer = tf.nn.dropout(hidden_layer, .5)\n",
    "            logits = tf.matmul(hidden_layer, weights[i + 1]) + biases[i + 1]\n",
    "        return logits\n",
    "    \n",
    "    logits = run_on_data(tf_train_dataset, True)\n",
    "    \n",
    "    unreduced_loss = tf.nn.softmax_cross_entropy_with_logits(labels=tf_train_labels, logits=logits)\n",
    "    for i in range(len(weights)):\n",
    "        unreduced_loss = unreduced_loss + beta_loss_coefficient * tf.nn.l2_loss(weights[i])\n",
    "        unreduced_loss = unreduced_loss + beta_loss_coefficient * tf.nn.l2_loss(biases[i])\n",
    "    \n",
    "    loss = tf.reduce_mean(unreduced_loss)\n",
    "    \n",
    "    # Optimizer.\n",
    "    global_step = tf.Variable(0)  # count the number of steps taken.\n",
    "    learning_rate = tf.train.exponential_decay(start_learning_rate, num_steps, 100000, 0.96, staircase=True)\n",
    "    # Use simple momentum for the optimization.\n",
    "#     optimizer = tf.train.MomentumOptimizer(learning_rate, 0.9).minimize(loss, global_step=global_step)\n",
    "    optimizer = tf.train.GradientDescentOptimizer(learning_rate).minimize(loss, global_step=global_step)\n",
    "    \n",
    "    # Predictions for the training, validation, and test data.\n",
    "    train_prediction = tf.nn.softmax(logits)\n",
    "    valid_prediction = tf.nn.softmax(run_on_data(tf_valid_dataset))\n",
    "    test_prediction = tf.nn.softmax(run_on_data(tf_test_dataset))\n"
   ]
  },
  {
   "cell_type": "code",
   "execution_count": 76,
   "metadata": {
    "ExecuteTime": {
     "end_time": "2017-02-11T08:04:53.967973",
     "start_time": "2017-02-11T08:04:01.874405"
    },
    "collapsed": false
   },
   "outputs": [
    {
     "name": "stdout",
     "output_type": "stream",
     "text": [
      "Initialized\n",
      ">>>>> 0 % done\n",
      "time to execute last 100 minibatches: 0.409773\n",
      "\n",
      "loss of last minibatch 4.343222\n",
      "accuracy on last minibatch: 9.4%\n",
      "\n",
      "model's current accuracy against validation data : 18.8%\n",
      "model's current accuracy against test data       : 20.1%\n",
      "\n",
      ">>>>> 0 % done\n",
      "time to execute last 100 minibatches: 3.355796\n",
      "\n",
      "loss of last minibatch 2.396057\n",
      "accuracy on last minibatch: 74.2%\n",
      "\n",
      "model's current accuracy against validation data : 81.2%\n",
      "model's current accuracy against test data       : 87.8%\n",
      "\n",
      ">>>>> 0 % done\n",
      "time to execute last 100 minibatches: 3.602586\n",
      "\n",
      "loss of last minibatch 2.288607\n",
      "accuracy on last minibatch: 77.3%\n",
      "\n",
      "model's current accuracy against validation data : 82.8%\n",
      "model's current accuracy against test data       : 89.1%\n",
      "\n",
      ">>>>> 0 % done\n",
      "time to execute last 100 minibatches: 3.854304\n",
      "\n",
      "loss of last minibatch 2.006033\n",
      "accuracy on last minibatch: 80.5%\n",
      "\n",
      "model's current accuracy against validation data : 83.0%\n",
      "model's current accuracy against test data       : 89.6%\n",
      "\n",
      ">>>>> 0 % done\n",
      "time to execute last 100 minibatches: 3.630572\n",
      "\n",
      "loss of last minibatch 2.019130\n",
      "accuracy on last minibatch: 82.8%\n",
      "\n",
      "model's current accuracy against validation data : 83.2%\n",
      "model's current accuracy against test data       : 89.8%\n",
      "\n",
      ">>>>> 0 % done\n",
      "time to execute last 100 minibatches: 3.513297\n",
      "\n",
      "loss of last minibatch 1.966388\n",
      "accuracy on last minibatch: 84.4%\n",
      "\n",
      "model's current accuracy against validation data : 83.9%\n",
      "model's current accuracy against test data       : 90.5%\n",
      "\n",
      ">>>>> 0 % done\n",
      "time to execute last 100 minibatches: 3.602374\n",
      "\n",
      "loss of last minibatch 1.841732\n",
      "accuracy on last minibatch: 88.3%\n",
      "\n",
      "model's current accuracy against validation data : 83.8%\n",
      "model's current accuracy against test data       : 90.5%\n",
      "\n",
      ">>>>> 0 % done\n",
      "time to execute last 100 minibatches: 3.648723\n",
      "\n",
      "loss of last minibatch 1.967099\n",
      "accuracy on last minibatch: 83.6%\n",
      "\n",
      "model's current accuracy against validation data : 84.1%\n",
      "model's current accuracy against test data       : 90.7%\n",
      "\n",
      ">>>>> 0 % done\n",
      "time to execute last 100 minibatches: 3.907778\n",
      "\n",
      "loss of last minibatch 1.878951\n",
      "accuracy on last minibatch: 84.4%\n",
      "\n",
      "model's current accuracy against validation data : 84.2%\n",
      "model's current accuracy against test data       : 91.0%\n",
      "\n",
      ">>>>> 0 % done\n",
      "time to execute last 100 minibatches: 4.026658\n",
      "\n",
      "loss of last minibatch 1.862309\n",
      "accuracy on last minibatch: 83.6%\n",
      "\n",
      "model's current accuracy against validation data : 84.7%\n",
      "model's current accuracy against test data       : 91.1%\n",
      "\n",
      "\n",
      "Total time for 1000 iterations: 52\n"
     ]
    }
   ],
   "source": [
    "num_steps = 1000\n",
    "num_prints = 10\n",
    "beta_loss_coefficient = .001\n",
    "\n",
    "with tf.Session(graph=graph) as session:\n",
    "    initial_time = timer()\n",
    "    start = timer()\n",
    "    tf.global_variables_initializer().run()\n",
    "    print(\"Initialized\")\n",
    "    accuracies = [[],[],[]] # train, valid, test\n",
    "    \n",
    "    for step in range(num_steps):\n",
    "        offset = (step * batch_size) % (train_labels.shape[0] - batch_size)\n",
    "        batch_data = train_dataset[offset:(offset + batch_size), :]\n",
    "        batch_labels = train_labels[offset:(offset + batch_size), :]\n",
    "        feed_dict = {tf_train_dataset : batch_data, tf_train_labels : batch_labels}\n",
    "        \n",
    "        _, l, predictions = session.run([optimizer, loss, train_prediction], feed_dict=feed_dict)\n",
    "        \n",
    "        accuracies[0].append(accuracy(predictions, batch_labels))\n",
    "#         accuracies[1].append(accuracy(valid_prediction.eval(), valid_labels))\n",
    "#         accuracies[2].append(accuracy(test_prediction.eval(), test_labels))\n",
    "        \n",
    "        if (step % int(num_steps / num_prints) == 0):\n",
    "            end = timer()\n",
    "            accuracies[1].append(accuracy(valid_prediction.eval(), valid_labels))\n",
    "            accuracies[2].append(accuracy(test_prediction.eval(), test_labels))\n",
    "            log_step(start, end - start, step / num_steps, l, accuracies[0][-1], accuracies[1][-1], accuracies[2][-1])\n",
    "            start = timer()\n",
    "    print()\n",
    "    print(\"Total time for %d iterations: %d\" % (num_steps, timer() - initial_time))\n"
   ]
  },
  {
   "cell_type": "code",
   "execution_count": null,
   "metadata": {
    "collapsed": true
   },
   "outputs": [],
   "source": []
  }
 ],
 "metadata": {
  "colab": {
   "default_view": {},
   "name": "3_regularization.ipynb",
   "provenance": [],
   "version": "0.3.2",
   "views": {}
  },
  "kernelspec": {
   "display_name": "Python 2",
   "language": "python",
   "name": "python2"
  },
  "language_info": {
   "codemirror_mode": {
    "name": "ipython",
    "version": 2
   },
   "file_extension": ".py",
   "mimetype": "text/x-python",
   "name": "python",
   "nbconvert_exporter": "python",
   "pygments_lexer": "ipython2",
   "version": "2.7.13"
  },
  "toc": {
   "colors": {
    "hover_highlight": "#DAA520",
    "running_highlight": "#FF0000",
    "selected_highlight": "#FFD700"
   },
   "moveMenuLeft": true,
   "nav_menu": {
    "height": "119px",
    "width": "252px"
   },
   "navigate_menu": true,
   "number_sections": true,
   "sideBar": true,
   "threshold": 4,
   "toc_cell": false,
   "toc_section_display": "block",
   "toc_window_display": false
  }
 },
 "nbformat": 4,
 "nbformat_minor": 0
}
