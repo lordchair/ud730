{
 "cells": [
  {
   "cell_type": "markdown",
   "metadata": {
    "colab_type": "text",
    "id": "5hIbr52I7Z7U"
   },
   "source": [
    "Deep Learning\n",
    "=============\n",
    "\n",
    "Assignment 1\n",
    "------------\n",
    "\n",
    "The objective of this assignment is to learn about simple data curation practices, and familiarize you with some of the data we'll be reusing later.\n",
    "\n",
    "This notebook uses the [notMNIST](http://yaroslavvb.blogspot.com/2011/09/notmnist-dataset.html) dataset to be used with python experiments. This dataset is designed to look like the classic [MNIST](http://yann.lecun.com/exdb/mnist/) dataset, while looking a little more like real data: it's a harder task, and the data is a lot less 'clean' than MNIST."
   ]
  },
  {
   "cell_type": "code",
   "execution_count": 1,
   "metadata": {
    "ExecuteTime": {
     "end_time": "2017-01-30T18:19:16.235958",
     "start_time": "2017-01-30T18:19:13.584992"
    },
    "cellView": "both",
    "colab": {
     "autoexec": {
      "startup": false,
      "wait_interval": 0
     }
    },
    "colab_type": "code",
    "collapsed": false,
    "id": "apJbCsBHl-2A"
   },
   "outputs": [],
   "source": [
    "# These are all the modules we'll be using later. Make sure you can import them\n",
    "# before proceeding further.\n",
    "from __future__ import print_function\n",
    "import matplotlib.pyplot as plt\n",
    "import numpy as np\n",
    "import os\n",
    "import sys\n",
    "import tarfile\n",
    "from IPython.display import display, Image\n",
    "from scipy import ndimage\n",
    "from sklearn.linear_model import LogisticRegression\n",
    "from six.moves.urllib.request import urlretrieve\n",
    "from six.moves import cPickle as pickle\n",
    "\n",
    "# Config the matplotlib backend as plotting inline in IPython\n",
    "%matplotlib inline"
   ]
  },
  {
   "cell_type": "markdown",
   "metadata": {
    "colab_type": "text",
    "id": "jNWGtZaXn-5j"
   },
   "source": [
    "First, we'll download the dataset to our local machine. The data consists of characters rendered in a variety of fonts on a 28x28 image. The labels are limited to 'A' through 'J' (10 classes). The training set has about 500k and the testset 19000 labelled examples. Given these sizes, it should be possible to train models quickly on any machine."
   ]
  },
  {
   "cell_type": "code",
   "execution_count": 2,
   "metadata": {
    "ExecuteTime": {
     "end_time": "2017-01-30T18:19:17.178343",
     "start_time": "2017-01-30T18:19:17.157335"
    },
    "cellView": "both",
    "code_folding": [
     3,
     20
    ],
    "colab": {
     "autoexec": {
      "startup": false,
      "wait_interval": 0
     },
     "output_extras": [
      {
       "item_id": 1
      }
     ]
    },
    "colab_type": "code",
    "collapsed": false,
    "executionInfo": {
     "elapsed": 186058,
     "status": "ok",
     "timestamp": 1444485672507,
     "user": {
      "color": "#1FA15D",
      "displayName": "Vincent Vanhoucke",
      "isAnonymous": false,
      "isMe": true,
      "permissionId": "05076109866853157986",
      "photoUrl": "//lh6.googleusercontent.com/-cCJa7dTDcgQ/AAAAAAAAAAI/AAAAAAAACgw/r2EZ_8oYer4/s50-c-k-no/photo.jpg",
      "sessionId": "2a0a5e044bb03b66",
      "userId": "102167687554210253930"
     },
     "user_tz": 420
    },
    "id": "EYRJ4ICW6-da",
    "outputId": "0d0f85df-155f-4a89-8e7e-ee32df36ec8d"
   },
   "outputs": [
    {
     "name": "stdout",
     "output_type": "stream",
     "text": [
      "Found and verified notMNIST_large.tar.gz\n",
      "Found and verified notMNIST_small.tar.gz\n"
     ]
    }
   ],
   "source": [
    "url = 'http://commondatastorage.googleapis.com/books1000/'\n",
    "last_percent_reported = None\n",
    "\n",
    "def download_progress_hook(count, blockSize, totalSize):\n",
    "  \"\"\"A hook to report the progress of a download. This is mostly intended for users with\n",
    "  slow internet connections. Reports every 5% change in download progress.\n",
    "  \"\"\"\n",
    "  global last_percent_reported\n",
    "  percent = int(count * blockSize * 100 / totalSize)\n",
    "\n",
    "  if last_percent_reported != percent:\n",
    "    if percent % 5 == 0:\n",
    "      sys.stdout.write(\"%s%%\" % percent)\n",
    "      sys.stdout.flush()\n",
    "    else:\n",
    "      sys.stdout.write(\".\")\n",
    "      sys.stdout.flush()\n",
    "      \n",
    "    last_percent_reported = percent\n",
    "        \n",
    "def maybe_download(filename, expected_bytes, force=False):\n",
    "  \"\"\"Download a file if not present, and make sure it's the right size.\"\"\"\n",
    "  if force or not os.path.exists(filename):\n",
    "    print('Attempting to download:', filename) \n",
    "    filename, _ = urlretrieve(url + filename, filename, reporthook=download_progress_hook)\n",
    "    print('\\nDownload Complete!')\n",
    "  statinfo = os.stat(filename)\n",
    "  if statinfo.st_size == expected_bytes:\n",
    "    print('Found and verified', filename)\n",
    "  else:\n",
    "    raise Exception(\n",
    "      'Failed to verify ' + filename + '. Can you get to it with a browser?')\n",
    "  return filename\n",
    "\n",
    "train_filename = maybe_download('notMNIST_large.tar.gz', 247336696)\n",
    "test_filename = maybe_download('notMNIST_small.tar.gz', 8458043)"
   ]
  },
  {
   "cell_type": "markdown",
   "metadata": {
    "colab_type": "text",
    "id": "cC3p0oEyF8QT"
   },
   "source": [
    "Extract the dataset from the compressed .tar.gz file.\n",
    "This should give you a set of directories, labelled A through J."
   ]
  },
  {
   "cell_type": "code",
   "execution_count": 3,
   "metadata": {
    "ExecuteTime": {
     "end_time": "2017-01-30T18:19:18.201882",
     "start_time": "2017-01-30T18:19:18.185875"
    },
    "cellView": "both",
    "code_folding": [],
    "colab": {
     "autoexec": {
      "startup": false,
      "wait_interval": 0
     },
     "output_extras": [
      {
       "item_id": 1
      }
     ]
    },
    "colab_type": "code",
    "collapsed": false,
    "executionInfo": {
     "elapsed": 186055,
     "status": "ok",
     "timestamp": 1444485672525,
     "user": {
      "color": "#1FA15D",
      "displayName": "Vincent Vanhoucke",
      "isAnonymous": false,
      "isMe": true,
      "permissionId": "05076109866853157986",
      "photoUrl": "//lh6.googleusercontent.com/-cCJa7dTDcgQ/AAAAAAAAAAI/AAAAAAAACgw/r2EZ_8oYer4/s50-c-k-no/photo.jpg",
      "sessionId": "2a0a5e044bb03b66",
      "userId": "102167687554210253930"
     },
     "user_tz": 420
    },
    "id": "H8CBE-WZ8nmj",
    "outputId": "ef6c790c-2513-4b09-962e-27c79390c762"
   },
   "outputs": [
    {
     "name": "stdout",
     "output_type": "stream",
     "text": [
      "notMNIST_large already present - Skipping extraction of notMNIST_large.tar.gz.\n",
      "['notMNIST_large\\\\A', 'notMNIST_large\\\\B', 'notMNIST_large\\\\C', 'notMNIST_large\\\\D', 'notMNIST_large\\\\E', 'notMNIST_large\\\\F', 'notMNIST_large\\\\G', 'notMNIST_large\\\\H', 'notMNIST_large\\\\I', 'notMNIST_large\\\\J']\n",
      "notMNIST_small already present - Skipping extraction of notMNIST_small.tar.gz.\n",
      "['notMNIST_small\\\\A', 'notMNIST_small\\\\B', 'notMNIST_small\\\\C', 'notMNIST_small\\\\D', 'notMNIST_small\\\\E', 'notMNIST_small\\\\F', 'notMNIST_small\\\\G', 'notMNIST_small\\\\H', 'notMNIST_small\\\\I', 'notMNIST_small\\\\J']\n"
     ]
    }
   ],
   "source": [
    "num_classes = 10\n",
    "np.random.seed(133)\n",
    "\n",
    "def maybe_extract(filename, force=False):\n",
    "  root = os.path.splitext(os.path.splitext(filename)[0])[0]  # remove .tar.gz\n",
    "  if os.path.isdir(root) and not force:\n",
    "    # You may override by setting force=True.\n",
    "    print('%s already present - Skipping extraction of %s.' % (root, filename))\n",
    "  else:\n",
    "    print('Extracting data for %s. This may take a while. Please wait.' % root)\n",
    "    tar = tarfile.open(filename)\n",
    "    sys.stdout.flush()\n",
    "    tar.extractall()\n",
    "    tar.close()\n",
    "  data_folders = [\n",
    "    os.path.join(root, d) for d in sorted(os.listdir(root))\n",
    "    if os.path.isdir(os.path.join(root, d))]\n",
    "  if len(data_folders) != num_classes:\n",
    "    raise Exception(\n",
    "      'Expected %d folders, one per class. Found %d instead.' % (\n",
    "        num_classes, len(data_folders)))\n",
    "  print(data_folders)\n",
    "  return data_folders\n",
    "  \n",
    "train_folders = maybe_extract(train_filename)\n",
    "test_folders = maybe_extract(test_filename)"
   ]
  },
  {
   "cell_type": "markdown",
   "metadata": {
    "colab_type": "text",
    "id": "4riXK3IoHgx6"
   },
   "source": [
    "---\n",
    "Problem 1\n",
    "---------\n",
    "\n",
    "Let's take a peek at some of the data to make sure it looks sensible. Each exemplar should be an image of a character A through J rendered in a different font. Display a sample of the images that we just downloaded. Hint: you can use the package IPython.display.\n",
    "\n",
    "---"
   ]
  },
  {
   "cell_type": "code",
   "execution_count": 4,
   "metadata": {
    "ExecuteTime": {
     "end_time": "2017-01-30T18:19:23.517909",
     "start_time": "2017-01-30T18:19:19.839576"
    },
    "collapsed": false
   },
   "outputs": [
    {
     "data": {
      "text/html": [
       "<div style=\"display:flex;justify-content:space-around;\"><img src=\"notMNIST_large\\A\\U0YgV2lsbGFtZXR0ZSBFeHRlbmRlZCBCb2xkIEl0YWxpYy50dGY=.png\" style=\"display:inline;margin:1px\"/><img src=\"notMNIST_large\\B\\RnV0dXJhQ29uZE1lZGl1bU9ibGlxdWUub3Rm.png\" style=\"display:inline;margin:1px\"/><img src=\"notMNIST_large\\C\\T3R0b21hdEJvb2sub3Rm.png\" style=\"display:inline;margin:1px\"/><img src=\"notMNIST_large\\D\\VHljb29uIFNTaSBCb2xkIEl0YWxpYyBPbGQgU3R5bGUgRmlndXJlcy50dGY=.png\" style=\"display:inline;margin:1px\"/><img src=\"notMNIST_large\\E\\SHlkcm8gSXRhbGljLnR0Zg==.png\" style=\"display:inline;margin:1px\"/><img src=\"notMNIST_large\\F\\V2FsYmF1bUJ1Y2hFeHBCUS1NZWRpdW1JdGFsaWNPc0Yub3Rm.png\" style=\"display:inline;margin:1px\"/><img src=\"notMNIST_large\\G\\V29vZGxhbmRJVENTdGQtTWVkaXVtLm90Zg==.png\" style=\"display:inline;margin:1px\"/><img src=\"notMNIST_large\\H\\UGljdG9ncmFwaE9uZS5vdGY=.png\" style=\"display:inline;margin:1px\"/><img src=\"notMNIST_large\\I\\V2Fib2xpYi1Ob3JtYWwudHRm.png\" style=\"display:inline;margin:1px\"/><img src=\"notMNIST_large\\J\\RGVjYWRlIFNTaSBCb2xkLnR0Zg==.png\" style=\"display:inline;margin:1px\"/></div>"
      ],
      "text/plain": [
       "<IPython.core.display.HTML object>"
      ]
     },
     "metadata": {},
     "output_type": "display_data"
    },
    {
     "data": {
      "text/html": [
       "<div style=\"display:flex;justify-content:space-around;\"><img src=\"notMNIST_large\\A\\SGFsbG93ZWVuS2lkZHlGb250LnR0Zg==.png\" style=\"display:inline;margin:1px\"/><img src=\"notMNIST_large\\B\\TmV3cyBTZXJpZi50dGY=.png\" style=\"display:inline;margin:1px\"/><img src=\"notMNIST_large\\C\\U3F1YXJlNzIxIEJUIEJvbGQudHRm.png\" style=\"display:inline;margin:1px\"/><img src=\"notMNIST_large\\D\\U2FydS1UcmFkZU1hcmtzLm90Zg==.png\" style=\"display:inline;margin:1px\"/><img src=\"notMNIST_large\\E\\QmFsbG9vblAtRXh0ckJvbGQub3Rm.png\" style=\"display:inline;margin:1px\"/><img src=\"notMNIST_large\\F\\RWxlY3RyaWMgSGVybWVzLnR0Zg==.png\" style=\"display:inline;margin:1px\"/><img src=\"notMNIST_large\\G\\T2xub3ZhLUV4dHJhQm9sZENvbmQub3Rm.png\" style=\"display:inline;margin:1px\"/><img src=\"notMNIST_large\\H\\Qmlzb25CUS5vdGY=.png\" style=\"display:inline;margin:1px\"/><img src=\"notMNIST_large\\I\\U291dGggUGFyayApU21pbGllIHZlcnNpb24udHRm.png\" style=\"display:inline;margin:1px\"/><img src=\"notMNIST_large\\J\\U2Fib3IgRGlzcGxheSBTU2kudHRm.png\" style=\"display:inline;margin:1px\"/></div>"
      ],
      "text/plain": [
       "<IPython.core.display.HTML object>"
      ]
     },
     "metadata": {},
     "output_type": "display_data"
    },
    {
     "data": {
      "text/html": [
       "<div style=\"display:flex;justify-content:space-around;\"><img src=\"notMNIST_large\\A\\Vmllbm5hUmVndWxhci5vdGY=.png\" style=\"display:inline;margin:1px\"/><img src=\"notMNIST_large\\B\\VkFHUm91bmRlZC1CbGFjay5vdGY=.png\" style=\"display:inline;margin:1px\"/><img src=\"notMNIST_large\\C\\U2luYmFkIEJvbGQudHRm.png\" style=\"display:inline;margin:1px\"/><img src=\"notMNIST_large\\D\\Qm9kb25pIFN2dHlUd29Td2EgSVRDIFRUIEJvbGRJdC50dGY=.png\" style=\"display:inline;margin:1px\"/><img src=\"notMNIST_large\\E\\UmlhbHRvU0NhcHNTU0sgQm9sZEl0YWxpYy50dGY=.png\" style=\"display:inline;margin:1px\"/><img src=\"notMNIST_large\\F\\VHJ1dGgtTGV0dGVyLm90Zg==.png\" style=\"display:inline;margin:1px\"/><img src=\"notMNIST_large\\G\\RnVuZ0Zvby1JdGFsaWMub3Rm.png\" style=\"display:inline;margin:1px\"/><img src=\"notMNIST_large\\H\\VHJhamFuLU5vcm1hbC50dGY=.png\" style=\"display:inline;margin:1px\"/><img src=\"notMNIST_large\\I\\UGVkZXN0cmlhTVZCLVJlZ3VsYXIub3Rm.png\" style=\"display:inline;margin:1px\"/><img src=\"notMNIST_large\\J\\SGFsbG93ZWVuLnR0Zg==.png\" style=\"display:inline;margin:1px\"/></div>"
      ],
      "text/plain": [
       "<IPython.core.display.HTML object>"
      ]
     },
     "metadata": {},
     "output_type": "display_data"
    }
   ],
   "source": [
    "from IPython.display import display, Image, HTML\n",
    "import os\n",
    "import random\n",
    "\n",
    "def make_html(path):\n",
    "     return '<img src=\"{}\" style=\"display:inline;margin:1px\"/>'.format(path)\n",
    "\n",
    "def display_letter_row():\n",
    "    imageFiles = []\n",
    "    for folder in train_folders:\n",
    "        randomFile = random.choice(os.listdir(folder))\n",
    "        randomFileName = os.path.join(folder, randomFile)\n",
    "        imageFiles.append(randomFileName)\n",
    "\n",
    "    imagesHtml = ''.join(make_html(path) for path in imageFiles)\n",
    "    htmlString = '<div style=\"display:flex;justify-content:space-around;\">' + imagesHtml + '</div>'\n",
    "    display(HTML(htmlString))\n",
    "    \n",
    "def run_n_times(func, n):\n",
    "    for i in range(n):\n",
    "        func()\n",
    "\n",
    "run_n_times(display_letter_row, 3)\n"
   ]
  },
  {
   "cell_type": "markdown",
   "metadata": {
    "colab_type": "text",
    "id": "PBdkjESPK8tw"
   },
   "source": [
    "Now let's load the data in a more manageable format. Since, depending on your computer setup you might not be able to fit it all in memory, we'll load each class into a separate dataset, store them on disk and curate them independently. Later we'll merge them into a single dataset of manageable size.\n",
    "\n",
    "We'll convert the entire dataset into a 3D array (image index, x, y) of floating point values, normalized to have approximately zero mean and standard deviation ~0.5 to make training easier down the road. \n",
    "\n",
    "A few images might not be readable, we'll just skip them."
   ]
  },
  {
   "cell_type": "code",
   "execution_count": 5,
   "metadata": {
    "ExecuteTime": {
     "end_time": "2017-01-30T18:19:23.591934",
     "start_time": "2017-01-30T18:19:23.518906"
    },
    "cellView": "both",
    "code_folding": [
     3,
     32
    ],
    "colab": {
     "autoexec": {
      "startup": false,
      "wait_interval": 0
     },
     "output_extras": [
      {
       "item_id": 30
      }
     ]
    },
    "colab_type": "code",
    "collapsed": false,
    "executionInfo": {
     "elapsed": 399874,
     "status": "ok",
     "timestamp": 1444485886378,
     "user": {
      "color": "#1FA15D",
      "displayName": "Vincent Vanhoucke",
      "isAnonymous": false,
      "isMe": true,
      "permissionId": "05076109866853157986",
      "photoUrl": "//lh6.googleusercontent.com/-cCJa7dTDcgQ/AAAAAAAAAAI/AAAAAAAACgw/r2EZ_8oYer4/s50-c-k-no/photo.jpg",
      "sessionId": "2a0a5e044bb03b66",
      "userId": "102167687554210253930"
     },
     "user_tz": 420
    },
    "id": "h7q0XhG3MJdf",
    "outputId": "92c391bb-86ff-431d-9ada-315568a19e59"
   },
   "outputs": [
    {
     "name": "stdout",
     "output_type": "stream",
     "text": [
      "notMNIST_large\\A.pickle already present - Skipping pickling.\n",
      "notMNIST_large\\B.pickle already present - Skipping pickling.\n",
      "notMNIST_large\\C.pickle already present - Skipping pickling.\n",
      "notMNIST_large\\D.pickle already present - Skipping pickling.\n",
      "notMNIST_large\\E.pickle already present - Skipping pickling.\n",
      "notMNIST_large\\F.pickle already present - Skipping pickling.\n",
      "notMNIST_large\\G.pickle already present - Skipping pickling.\n",
      "notMNIST_large\\H.pickle already present - Skipping pickling.\n",
      "notMNIST_large\\I.pickle already present - Skipping pickling.\n",
      "notMNIST_large\\J.pickle already present - Skipping pickling.\n",
      "notMNIST_small\\A.pickle already present - Skipping pickling.\n",
      "notMNIST_small\\B.pickle already present - Skipping pickling.\n",
      "notMNIST_small\\C.pickle already present - Skipping pickling.\n",
      "notMNIST_small\\D.pickle already present - Skipping pickling.\n",
      "notMNIST_small\\E.pickle already present - Skipping pickling.\n",
      "notMNIST_small\\F.pickle already present - Skipping pickling.\n",
      "notMNIST_small\\G.pickle already present - Skipping pickling.\n",
      "notMNIST_small\\H.pickle already present - Skipping pickling.\n",
      "notMNIST_small\\I.pickle already present - Skipping pickling.\n",
      "notMNIST_small\\J.pickle already present - Skipping pickling.\n"
     ]
    }
   ],
   "source": [
    "image_size = 28  # Pixel width and height.\n",
    "pixel_depth = 255.0  # Number of levels per pixel.\n",
    "\n",
    "def load_letter(folder, min_num_images):\n",
    "  \"\"\"Load the data for a single letter label.\"\"\"\n",
    "  image_files = os.listdir(folder)\n",
    "  dataset = np.ndarray(shape=(len(image_files), image_size, image_size),\n",
    "                         dtype=np.float32)\n",
    "  print(folder)\n",
    "  num_images = 0\n",
    "  for image in image_files:\n",
    "    image_file = os.path.join(folder, image)\n",
    "    try:\n",
    "      image_data = (ndimage.imread(image_file).astype(float) - \n",
    "                    pixel_depth / 2) / pixel_depth\n",
    "      if image_data.shape != (image_size, image_size):\n",
    "        raise Exception('Unexpected image shape: %s' % str(image_data.shape))\n",
    "      dataset[num_images, :, :] = image_data\n",
    "      num_images = num_images + 1\n",
    "    except IOError as e:\n",
    "      print('Could not read:', image_file, ':', e, '- it\\'s ok, skipping.')\n",
    "    \n",
    "  dataset = dataset[0:num_images, :, :]\n",
    "  if num_images < min_num_images:\n",
    "    raise Exception('Many fewer images than expected: %d < %d' %\n",
    "                    (num_images, min_num_images))\n",
    "    \n",
    "  print('Full dataset tensor:', dataset.shape)\n",
    "  print('Mean:', np.mean(dataset))\n",
    "  print('Standard deviation:', np.std(dataset))\n",
    "  return dataset\n",
    "        \n",
    "def maybe_pickle(data_folders, min_num_images_per_class, force=False):\n",
    "  dataset_names = []\n",
    "  for folder in data_folders:\n",
    "    set_filename = folder + '.pickle'\n",
    "    dataset_names.append(set_filename)\n",
    "    if os.path.exists(set_filename) and not force:\n",
    "      # You may override by setting force=True.\n",
    "      print('%s already present - Skipping pickling.' % set_filename)\n",
    "    else:\n",
    "      print('Pickling %s.' % set_filename)\n",
    "      dataset = load_letter(folder, min_num_images_per_class)\n",
    "      try:\n",
    "        with open(set_filename, 'wb') as f:\n",
    "          pickle.dump(dataset, f, pickle.HIGHEST_PROTOCOL)\n",
    "      except Exception as e:\n",
    "        print('Unable to save data to', set_filename, ':', e)\n",
    "  \n",
    "  return dataset_names\n",
    "\n",
    "train_datasets = maybe_pickle(train_folders, 45000)\n",
    "test_datasets = maybe_pickle(test_folders, 1800)"
   ]
  },
  {
   "cell_type": "markdown",
   "metadata": {
    "colab_type": "text",
    "id": "vUdbskYE2d87"
   },
   "source": [
    "---\n",
    "Problem 2\n",
    "---------\n",
    "\n",
    "Let's verify that the data still looks good. Displaying a sample of the labels and images from the ndarray. Hint: you can use matplotlib.pyplot.\n",
    "\n",
    "---"
   ]
  },
  {
   "cell_type": "code",
   "execution_count": 6,
   "metadata": {
    "ExecuteTime": {
     "end_time": "2017-01-30T18:19:30.561782",
     "start_time": "2017-01-30T18:19:27.432649"
    },
    "collapsed": false
   },
   "outputs": [
    {
     "data": {
      "image/png": "[encoded data removed]",
      "text/plain": [
       "<matplotlib.figure.Figure at 0x16081040908>"
      ]
     },
     "metadata": {},
     "output_type": "display_data"
    },
    {
     "data": {
      "image/png": "[encoded data removed]",
      "text/plain": [
       "<matplotlib.figure.Figure at 0x160fc665160>"
      ]
     },
     "metadata": {},
     "output_type": "display_data"
    },
    {
     "data": {
      "image/png": "[encoded data removed]",
      "text/plain": [
       "<matplotlib.figure.Figure at 0x16083f57160>"
      ]
     },
     "metadata": {},
     "output_type": "display_data"
    },
    {
     "data": {
      "image/png": "[encoded data removed]",
      "text/plain": [
       "<matplotlib.figure.Figure at 0x16083fb9828>"
      ]
     },
     "metadata": {},
     "output_type": "display_data"
    },
    {
     "data": {
      "image/png": "[encoded data removed]",
      "text/plain": [
       "<matplotlib.figure.Figure at 0x16084003c50>"
      ]
     },
     "metadata": {},
     "output_type": "display_data"
    },
    {
     "data": {
      "image/png": "[encoded data removed]",
      "text/plain": [
       "<matplotlib.figure.Figure at 0x1608405b278>"
      ]
     },
     "metadata": {},
     "output_type": "display_data"
    },
    {
     "data": {
      "image/png": "[encoded data removed]",
      "text/plain": [
       "<matplotlib.figure.Figure at 0x160840a6780>"
      ]
     },
     "metadata": {},
     "output_type": "display_data"
    },
    {
     "data": {
      "image/png": "[encoded data removed]",
      "text/plain": [
       "<matplotlib.figure.Figure at 0x160840f7d68>"
      ]
     },
     "metadata": {},
     "output_type": "display_data"
    },
    {
     "data": {
      "image/png": "[encoded data removed]",
      "text/plain": [
       "<matplotlib.figure.Figure at 0x160841452b0>"
      ]
     },
     "metadata": {},
     "output_type": "display_data"
    },
    {
     "data": {
      "image/png": "[encoded data removed]",
      "text/plain": [
       "<matplotlib.figure.Figure at 0x16084198898>"
      ]
     },
     "metadata": {},
     "output_type": "display_data"
    }
   ],
   "source": [
    "from IPython.display import display, Image\n",
    "import os\n",
    "\n",
    "def display_image(image):\n",
    "    plt.figure()\n",
    "    plt.imshow(image)\n",
    "\n",
    "def display_random_image_from_dataset(dataset):\n",
    "    randomImage = dataset[np.random.randint(len(dataset)), :, :]\n",
    "    display_image(randomImage)\n",
    "\n",
    "def display_sample_images(datasets):\n",
    "    for dataset in datasets:\n",
    "        with open(dataset, 'rb') as pickledData:\n",
    "            letterCases = pickle.load(pickledData)\n",
    "            display_random_image_from_dataset(letterCases)\n",
    "\n",
    "display_sample_images(train_datasets)"
   ]
  },
  {
   "cell_type": "markdown",
   "metadata": {
    "colab_type": "text",
    "id": "cYznx5jUwzoO"
   },
   "source": [
    "---\n",
    "Problem 3\n",
    "---------\n",
    "Another check: we expect the data to be balanced across classes. Verify that.\n",
    "\n",
    "---"
   ]
  },
  {
   "cell_type": "markdown",
   "metadata": {
    "colab_type": "text",
    "id": "LA7M7K22ynCt"
   },
   "source": [
    "Merge and prune the training data as needed. Depending on your computer setup, you might not be able to fit it all in memory, and you can tune `train_size` as needed. The labels will be stored into a separate array of integers 0 through 9.\n",
    "\n",
    "Also create a validation dataset for hyperparameter tuning."
   ]
  },
  {
   "cell_type": "code",
   "execution_count": 7,
   "metadata": {
    "ExecuteTime": {
     "end_time": "2017-01-30T18:19:47.400951",
     "start_time": "2017-01-30T18:19:44.078750"
    },
    "cellView": "both",
    "code_folding": [
     0,
     47
    ],
    "colab": {
     "autoexec": {
      "startup": false,
      "wait_interval": 0
     },
     "output_extras": [
      {
       "item_id": 1
      }
     ]
    },
    "colab_type": "code",
    "collapsed": false,
    "executionInfo": {
     "elapsed": 411281,
     "status": "ok",
     "timestamp": 1444485897869,
     "user": {
      "color": "#1FA15D",
      "displayName": "Vincent Vanhoucke",
      "isAnonymous": false,
      "isMe": true,
      "permissionId": "05076109866853157986",
      "photoUrl": "//lh6.googleusercontent.com/-cCJa7dTDcgQ/AAAAAAAAAAI/AAAAAAAACgw/r2EZ_8oYer4/s50-c-k-no/photo.jpg",
      "sessionId": "2a0a5e044bb03b66",
      "userId": "102167687554210253930"
     },
     "user_tz": 420
    },
    "id": "s3mWgZLpyuzq",
    "outputId": "8af66da6-902d-4719-bedc-7c9fb7ae7948"
   },
   "outputs": [
    {
     "name": "stdout",
     "output_type": "stream",
     "text": [
      "Training: (200000, 28, 28) (200000,)\n",
      "Validation: (10000, 28, 28) (10000,)\n",
      "Testing: (10000, 28, 28) (10000,)\n"
     ]
    }
   ],
   "source": [
    "def make_arrays(nb_rows, img_size):\n",
    "  if nb_rows:\n",
    "    dataset = np.ndarray((nb_rows, img_size, img_size), dtype=np.float32)\n",
    "    labels = np.ndarray(nb_rows, dtype=np.int32)\n",
    "  else:\n",
    "    dataset, labels = None, None\n",
    "  return dataset, labels\n",
    "\n",
    "def merge_datasets(pickle_files, train_size, valid_size=0):\n",
    "  num_classes = len(pickle_files)\n",
    "  valid_dataset, valid_labels = make_arrays(valid_size, image_size)\n",
    "  train_dataset, train_labels = make_arrays(train_size, image_size)\n",
    "  vsize_per_class = valid_size // num_classes\n",
    "  tsize_per_class = train_size // num_classes\n",
    "    \n",
    "  start_v, start_t = 0, 0\n",
    "  end_v, end_t = vsize_per_class, tsize_per_class\n",
    "  end_l = vsize_per_class+tsize_per_class\n",
    "  for label, pickle_file in enumerate(pickle_files):       \n",
    "    try:\n",
    "      with open(pickle_file, 'rb') as f:\n",
    "        letter_set = pickle.load(f)\n",
    "        # let's shuffle the letters to have random validation and training set\n",
    "        np.random.shuffle(letter_set)\n",
    "        if valid_dataset is not None:\n",
    "          valid_letter = letter_set[:vsize_per_class, :, :]\n",
    "          valid_dataset[start_v:end_v, :, :] = valid_letter\n",
    "          valid_labels[start_v:end_v] = label\n",
    "          start_v += vsize_per_class\n",
    "          end_v += vsize_per_class\n",
    "                    \n",
    "        train_letter = letter_set[vsize_per_class:end_l, :, :]\n",
    "        train_dataset[start_t:end_t, :, :] = train_letter\n",
    "        train_labels[start_t:end_t] = label\n",
    "        start_t += tsize_per_class\n",
    "        end_t += tsize_per_class\n",
    "    except Exception as e:\n",
    "      print('Unable to process data from', pickle_file, ':', e)\n",
    "      raise\n",
    "    \n",
    "  return valid_dataset, valid_labels, train_dataset, train_labels\n",
    "            \n",
    "            \n",
    "train_size = 200000\n",
    "valid_size = 10000\n",
    "test_size = 10000\n",
    "\n",
    "valid_dataset, valid_labels, train_dataset, train_labels = merge_datasets(\n",
    "  train_datasets, train_size, valid_size)\n",
    "_, _, test_dataset, test_labels = merge_datasets(test_datasets, test_size)\n",
    "\n",
    "print('Training:', train_dataset.shape, train_labels.shape)\n",
    "print('Validation:', valid_dataset.shape, valid_labels.shape)\n",
    "print('Testing:', test_dataset.shape, test_labels.shape)"
   ]
  },
  {
   "cell_type": "markdown",
   "metadata": {
    "colab_type": "text",
    "id": "GPTCnjIcyuKN"
   },
   "source": [
    "Next, we'll randomize the data. It's important to have the labels well shuffled for the training and test distributions to match."
   ]
  },
  {
   "cell_type": "code",
   "execution_count": 8,
   "metadata": {
    "ExecuteTime": {
     "end_time": "2017-01-30T18:19:47.777086",
     "start_time": "2017-01-30T18:19:47.401951"
    },
    "cellView": "both",
    "colab": {
     "autoexec": {
      "startup": false,
      "wait_interval": 0
     }
    },
    "colab_type": "code",
    "collapsed": true,
    "id": "6WZ2l2tN2zOL"
   },
   "outputs": [],
   "source": [
    "def randomize(dataset, labels):\n",
    "  permutation = np.random.permutation(labels.shape[0])\n",
    "  shuffled_dataset = dataset[permutation,:,:]\n",
    "  shuffled_labels = labels[permutation]\n",
    "  return shuffled_dataset, shuffled_labels\n",
    "train_dataset, train_labels = randomize(train_dataset, train_labels)\n",
    "test_dataset, test_labels = randomize(test_dataset, test_labels)\n",
    "valid_dataset, valid_labels = randomize(valid_dataset, valid_labels)"
   ]
  },
  {
   "cell_type": "markdown",
   "metadata": {
    "colab_type": "text",
    "id": "puDUTe6t6USl"
   },
   "source": [
    "---\n",
    "Problem 4\n",
    "---------\n",
    "Convince yourself that the data is still good after shuffling!\n",
    "\n",
    "---"
   ]
  },
  {
   "cell_type": "code",
   "execution_count": 9,
   "metadata": {
    "ExecuteTime": {
     "end_time": "2017-01-30T18:19:49.316644",
     "start_time": "2017-01-30T18:19:47.911136"
    },
    "collapsed": false
   },
   "outputs": [
    {
     "data": {
      "image/png": "[encoded data removed]",
      "text/plain": [
       "<matplotlib.figure.Figure at 0x160843f1da0>"
      ]
     },
     "metadata": {},
     "output_type": "display_data"
    },
    {
     "data": {
      "image/png": "[encoded data removed]",
      "text/plain": [
       "<matplotlib.figure.Figure at 0x1608445a080>"
      ]
     },
     "metadata": {},
     "output_type": "display_data"
    },
    {
     "data": {
      "image/png": "[encoded data removed]",
      "text/plain": [
       "<matplotlib.figure.Figure at 0x160843f6470>"
      ]
     },
     "metadata": {},
     "output_type": "display_data"
    },
    {
     "data": {
      "image/png": "[encoded data removed]",
      "text/plain": [
       "<matplotlib.figure.Figure at 0x160844f0c18>"
      ]
     },
     "metadata": {},
     "output_type": "display_data"
    },
    {
     "data": {
      "image/png": "[encoded data removed]",
      "text/plain": [
       "<matplotlib.figure.Figure at 0x16084504ac8>"
      ]
     },
     "metadata": {},
     "output_type": "display_data"
    },
    {
     "data": {
      "image/png": "[encoded data removed]",
      "text/plain": [
       "<matplotlib.figure.Figure at 0x16084590390>"
      ]
     },
     "metadata": {},
     "output_type": "display_data"
    },
    {
     "data": {
      "image/png": "[encoded data removed]",
      "text/plain": [
       "<matplotlib.figure.Figure at 0x160845a27f0>"
      ]
     },
     "metadata": {},
     "output_type": "display_data"
    },
    {
     "data": {
      "image/png": "[encoded data removed]",
      "text/plain": [
       "<matplotlib.figure.Figure at 0x1608462b358>"
      ]
     },
     "metadata": {},
     "output_type": "display_data"
    },
    {
     "data": {
      "image/png": "[encoded data removed]",
      "text/plain": [
       "<matplotlib.figure.Figure at 0x1608463de10>"
      ]
     },
     "metadata": {},
     "output_type": "display_data"
    },
    {
     "data": {
      "image/png": "[encoded data removed]",
      "text/plain": [
       "<matplotlib.figure.Figure at 0x160846c8128>"
      ]
     },
     "metadata": {},
     "output_type": "display_data"
    }
   ],
   "source": [
    "for i in range(10):\n",
    "    display_random_image_from_dataset(test_dataset)\n",
    "    "
   ]
  },
  {
   "cell_type": "markdown",
   "metadata": {
    "colab_type": "text",
    "id": "tIQJaJuwg5Hw"
   },
   "source": [
    "Finally, let's save the data for later reuse:"
   ]
  },
  {
   "cell_type": "code",
   "execution_count": 18,
   "metadata": {
    "ExecuteTime": {
     "end_time": "2017-01-30T18:25:02.001251",
     "start_time": "2017-01-30T18:24:59.424290"
    },
    "cellView": "both",
    "colab": {
     "autoexec": {
      "startup": false,
      "wait_interval": 0
     }
    },
    "colab_type": "code",
    "collapsed": false,
    "id": "QiR_rETzem6C"
   },
   "outputs": [
    {
     "name": "stdout",
     "output_type": "stream",
     "text": [
      "dict_keys(['train_labels', 'test_labels', 'test_dataset', 'train_dataset', 'valid_dataset', 'valid_labels'])\n"
     ]
    }
   ],
   "source": [
    "def save_pickle(filename, data_dict):\n",
    "    print(data_dict.keys())\n",
    "    try:\n",
    "      f = open(filename, 'wb')\n",
    "      pickle.dump(data_dict, f, pickle.HIGHEST_PROTOCOL)\n",
    "      f.close()\n",
    "    except Exception as e:\n",
    "      print('Unable to save data to', filename, ':', e)\n",
    "      raise\n",
    "\n",
    "pickle_file = 'notMNIST.pickle'\n",
    "save_pickle(pickle_file, {\n",
    "    'train_dataset': train_dataset,\n",
    "    'train_labels': train_labels,\n",
    "    'valid_dataset': valid_dataset,\n",
    "    'valid_labels': valid_labels,\n",
    "    'test_dataset': test_dataset,\n",
    "    'test_labels': test_labels,\n",
    "})"
   ]
  },
  {
   "cell_type": "code",
   "execution_count": 11,
   "metadata": {
    "ExecuteTime": {
     "end_time": "2017-01-30T18:08:46.440751",
     "start_time": "2017-01-30T18:08:46.435748"
    },
    "cellView": "both",
    "colab": {
     "autoexec": {
      "startup": false,
      "wait_interval": 0
     },
     "output_extras": [
      {
       "item_id": 1
      }
     ]
    },
    "colab_type": "code",
    "collapsed": false,
    "executionInfo": {
     "elapsed": 413065,
     "status": "ok",
     "timestamp": 1444485899688,
     "user": {
      "color": "#1FA15D",
      "displayName": "Vincent Vanhoucke",
      "isAnonymous": false,
      "isMe": true,
      "permissionId": "05076109866853157986",
      "photoUrl": "//lh6.googleusercontent.com/-cCJa7dTDcgQ/AAAAAAAAAAI/AAAAAAAACgw/r2EZ_8oYer4/s50-c-k-no/photo.jpg",
      "sessionId": "2a0a5e044bb03b66",
      "userId": "102167687554210253930"
     },
     "user_tz": 420
    },
    "id": "hQbLjrW_iT39",
    "outputId": "b440efc6-5ee1-4cbc-d02d-93db44ebd956"
   },
   "outputs": [
    {
     "name": "stdout",
     "output_type": "stream",
     "text": [
      "Compressed pickle size: 690800503\n"
     ]
    }
   ],
   "source": [
    "statinfo = os.stat(pickle_file)\n",
    "print('Compressed pickle size:', statinfo.st_size)"
   ]
  },
  {
   "cell_type": "markdown",
   "metadata": {
    "colab_type": "text",
    "id": "gE_cRAQB33lk"
   },
   "source": [
    "---\n",
    "Problem 5\n",
    "---------\n",
    "\n",
    "By construction, this dataset might contain a lot of overlapping samples, including training data that's also contained in the validation and test set! Overlap between training and test can skew the results if you expect to use your model in an environment where there is never an overlap, but are actually ok if you expect to see training samples recur when you use it.\n",
    "Measure how much overlap there is between training, validation and test samples.\n",
    "\n",
    "Optional questions:\n",
    "- What about near duplicates between datasets? (images that are almost identical)\n",
    "- Create a sanitized validation and test set, and compare your accuracy on those in subsequent assignments.\n",
    "---"
   ]
  },
  {
   "cell_type": "code",
   "execution_count": 15,
   "metadata": {
    "ExecuteTime": {
     "end_time": "2017-01-30T18:24:29.119902",
     "start_time": "2017-01-30T18:24:22.100361"
    },
    "code_folding": [
     8
    ],
    "collapsed": false
   },
   "outputs": [
    {
     "name": "stdout",
     "output_type": "stream",
     "text": [
      "images in testing removed from validation   160 dupes removed\n",
      "images in testing removed from training   3610 dupes removed\n",
      "images in validation removed from training   1284 dupes removed\n",
      "done processing\n"
     ]
    }
   ],
   "source": [
    "import hashlib\n",
    "\n",
    "def get_hash(input):\n",
    "    return hashlib.sha256(input).hexdigest()\n",
    "\n",
    "def fast_compare_datasets(datA, datB):\n",
    "    # fairly fast. won't let through any duplicates. might flag some non-dupes\n",
    "    indexes_of_datB_elmts_existing_in_datA = []\n",
    "    \n",
    "    datA.flags.writeable=False # allows us to hash\n",
    "    datB.flags.writeable=False\n",
    "    hashA = set([get_hash(imageA.data) for imageA in datA])\n",
    "    \n",
    "    for imageB in range(datB.shape[0]):\n",
    "        if get_hash(datB[imageB].data) in hashA:\n",
    "            indexes_of_datB_elmts_existing_in_datA.append(imageB)\n",
    "    \n",
    "    return indexes_of_datB_elmts_existing_in_datA\n",
    "\n",
    "\n",
    "sets = {\n",
    "    'sanitized': [\n",
    "        [ 'testing',    np.copy(test_dataset),  np.copy(test_labels)  ],\n",
    "        [ 'validation', np.copy(valid_dataset), np.copy(valid_labels) ],\n",
    "        [ 'training',   np.copy(train_dataset), np.copy(train_labels) ]\n",
    "    ],\n",
    "    'unsanitized': [\n",
    "        [ 'testing',    test_dataset,  test_labels  ],\n",
    "        [ 'validation', valid_dataset, valid_labels ],\n",
    "        [ 'training',   train_dataset, train_labels ]\n",
    "    ]\n",
    "}\n",
    "\n",
    "\n",
    "def sanitize_sets(sets):\n",
    "    for i in range(len(sets[0])):\n",
    "        for j in range(len(sets[0])):\n",
    "            if j > i:\n",
    "                dupes = fast_compare_datasets(sets[i][1], sets[j][1])\n",
    "                sets[j][1] = np.delete(sets[j][1], dupes, axis=0)\n",
    "                sets[j][2] = np.delete(sets[j][2], dupes, axis=0)\n",
    "                print('images in', sets[i][0], 'removed from', sets[j][0], ' ', len(dupes), 'dupes removed')\n",
    "    print('done processing')\n",
    "            \n",
    "sanitize_sets(sets['sanitized'])"
   ]
  },
  {
   "cell_type": "code",
   "execution_count": 16,
   "metadata": {
    "ExecuteTime": {
     "end_time": "2017-01-30T18:24:44.360284",
     "start_time": "2017-01-30T18:24:44.340277"
    },
    "collapsed": false
   },
   "outputs": [],
   "source": [
    "import hashlib\n",
    "train_dataset.flags.writeable=False\n",
    "test_dataset.flags.writeable=False\n",
    "\n",
    "def checkDupWithin(d):\n",
    "    dup_table = set()\n",
    "    rmv_index = []\n",
    "    for index in range(len(d)):\n",
    "        anImage = d[index]\n",
    "        h = hashlib.sha256(anImage.data).hexdigest()\n",
    "        if h in dup_table:\n",
    "            rmv_index.append(index)\n",
    "        else:\n",
    "            dup_table.add(h)\n",
    "    return dup_table, len(rmv_index)\n",
    "\n",
    "def checkDupBetween(d1, d2):\n",
    "    dup_table = checkDupWithin(d1)[0]\n",
    "    \n",
    "    rmv_index = []\n",
    "    for index in range(len(d2)):\n",
    "        anImage = d2[index]\n",
    "        h = hashlib.sha256(anImage.data).hexdigest()\n",
    "        if h in dup_table:\n",
    "            rmv_index.append(index)\n",
    "    print('done')\n",
    "    return len(rmv_index)\n",
    "       \n",
    "# print(\"dup in valid set is of length: \", checkDupWithin(valid_dataset)[1])\n",
    "# print(\"dup in train set is of length: \", checkDupWithin(train_dataset)[1])\n",
    "# print(\"dup in test set is of length: \", checkDupWithin(test_dataset)[1])\n",
    "\n",
    "# print(checkDupBetween(test_dataset, train_dataset))\n",
    "# print(checkDupBetween(test_dataset, valid_dataset))\n",
    "# print('this one should be different')\n",
    "# print(checkDupBetween(valid_dataset, train_dataset))"
   ]
  },
  {
   "cell_type": "code",
   "execution_count": 19,
   "metadata": {
    "ExecuteTime": {
     "end_time": "2017-01-30T18:25:13.955776",
     "start_time": "2017-01-30T18:25:08.492759"
    },
    "collapsed": false
   },
   "outputs": [
    {
     "name": "stdout",
     "output_type": "stream",
     "text": [
      "dict_keys(['sanitized', 'unsanitized'])\n"
     ]
    }
   ],
   "source": [
    "save_pickle(pickle_file, sets)"
   ]
  },
  {
   "cell_type": "markdown",
   "metadata": {
    "colab_type": "text",
    "id": "L8oww1s4JMQx"
   },
   "source": [
    "---\n",
    "Problem 6\n",
    "---------\n",
    "\n",
    "Let's get an idea of what an off-the-shelf classifier can give you on this data. It's always good to check that there is something to learn, and that it's a problem that is not so trivial that a canned solution solves it.\n",
    "\n",
    "Train a simple model on this data using 50, 100, 1000 and 5000 training samples. Hint: you can use the LogisticRegression model from sklearn.linear_model.\n",
    "\n",
    "Optional question: train an off-the-shelf model on all the data!\n",
    "\n",
    "---"
   ]
  },
  {
   "cell_type": "code",
   "execution_count": 20,
   "metadata": {
    "ExecuteTime": {
     "end_time": "2017-01-30T18:25:39.707670",
     "start_time": "2017-01-30T18:25:19.234261"
    },
    "code_folding": [],
    "collapsed": false
   },
   "outputs": [
    {
     "name": "stdout",
     "output_type": "stream",
     "text": [
      "0 100.0\n",
      "     100 training cases of sanitized data    Score: 0.7313 Time: 0.15235\n"
     ]
    },
    {
     "name": "stderr",
     "output_type": "stream",
     "text": [
      "C:\\Program Files\\Anaconda3\\lib\\site-packages\\ipykernel\\__main__.py:16: VisibleDeprecationWarning: using a non-integer number instead of an integer will result in an error in the future\n"
     ]
    },
    {
     "name": "stdout",
     "output_type": "stream",
     "text": [
      "     100 training cases of unsanitized data  Score: 0.7297 Time: 0.14761\n",
      "1 200.0\n",
      "     200 training cases of sanitized data    Score: 0.7973 Time: 0.24784\n",
      "     200 training cases of unsanitized data  Score: 0.8009 Time: 0.28627\n",
      "2 300.0\n",
      "     300 training cases of sanitized data    Score: 0.8236 Time: 0.40600\n",
      "     300 training cases of unsanitized data  Score: 0.8268 Time: 0.38005\n",
      "3 400.0\n",
      "     400 training cases of sanitized data    Score: 0.8266 Time: 0.58895\n",
      "     400 training cases of unsanitized data  Score: 0.8305 Time: 0.56938\n",
      "4 500.0\n",
      "     500 training cases of sanitized data    Score: 0.8308 Time: 0.69691\n",
      "     500 training cases of unsanitized data  Score: 0.8299 Time: 0.73211\n",
      "5 600.0\n",
      "     600 training cases of sanitized data    Score: 0.8274 Time: 0.87512\n",
      "     600 training cases of unsanitized data  Score: 0.8318 Time: 0.85756\n",
      "6 700.0\n",
      "     700 training cases of sanitized data    Score: 0.8315 Time: 1.22636\n",
      "     700 training cases of unsanitized data  Score: 0.8334 Time: 1.25365\n",
      "7 800.0\n",
      "     800 training cases of sanitized data    Score: 0.8294 Time: 1.52621\n",
      "     800 training cases of unsanitized data  Score: 0.8314 Time: 1.69948\n",
      "8 900.0\n",
      "     900 training cases of sanitized data    Score: 0.8345 Time: 1.91560\n",
      "     900 training cases of unsanitized data  Score: 0.8341 Time: 2.14930\n",
      "9 1000.0\n",
      "    1000 training cases of sanitized data    Score: 0.8317 Time: 2.45800\n",
      "    1000 training cases of unsanitized data  Score: 0.8323 Time: 2.26668\n",
      "done\n"
     ]
    }
   ],
   "source": [
    "from timeit import default_timer as timer\n",
    "\n",
    "logistic = LogisticRegression()\n",
    "\n",
    "def to2D(dataset):\n",
    "    return dataset.reshape(dataset.shape[0], -1)\n",
    "\n",
    "\n",
    "def log_reg(set_identifier, n=-1, should_print=False):\n",
    "    data = sets[set_identifier]\n",
    "    start = timer()\n",
    "    if n == -1:\n",
    "        fit = logistic.fit(to2D(data[2][1]), data[2][2])\n",
    "        score = fit.score(to2D(data[0][1]), data[0][2])\n",
    "    else:\n",
    "        fit = logistic.fit(to2D(data[2][1][:n]), data[2][2][:n])\n",
    "        score = fit.score(to2D(data[0][1]), data[0][2])\n",
    "    elapsed = timer() - start\n",
    "    \n",
    "    if should_print:\n",
    "        print(\"%8d training cases of %-16s  Score: %0.4f Time: %0.5f\" % (n, set_identifier + ' data', score, elapsed))\n",
    "        \n",
    "    return [[score], [elapsed]]\n",
    "    \n",
    "    \n",
    "results = {'sanitized': [], 'unsanitized': [], 'x': []}\n",
    "\n",
    "def run_comparison_regression(n, doLog):\n",
    "    results['sanitized'].append(log_reg('sanitized', n, doLog))\n",
    "    results['unsanitized'].append(log_reg('unsanitized', n, doLog))\n",
    "    results['x'].append(n)\n",
    "    \n",
    "max_elements = len(sets['sanitized'][2][1])\n",
    "steps = 10\n",
    "# step_size = max_elements / steps\n",
    "step_size = 1000 / steps\n",
    "for i in range(steps):\n",
    "    print(i, (i+1) * step_size)\n",
    "    run_comparison_regression((i+1) * step_size, True)\n",
    "print('done')"
   ]
  },
  {
   "cell_type": "code",
   "execution_count": 21,
   "metadata": {
    "ExecuteTime": {
     "end_time": "2017-01-30T18:25:48.066038",
     "start_time": "2017-01-30T18:25:47.872970"
    },
    "collapsed": false,
    "scrolled": false
   },
   "outputs": [
    {
     "data": {
      "image/png": "[encoded data removed]",
      "text/plain": [
       "<matplotlib.figure.Figure at 0x1608596c908>"
      ]
     },
     "metadata": {},
     "output_type": "display_data"
    }
   ],
   "source": [
    "def plot_perf(result_type, color, which_stat=0):\n",
    "    my_results = np.array(results[result_type]).T[0]\n",
    "    plt.plot(results['x'], my_results[which_stat].T, color=color)\n",
    "    \n",
    "def compare_plot(which_stat):\n",
    "    plot_perf('sanitized', 'b', which_stat)\n",
    "    plot_perf('unsanitized', 'r', which_stat)\n",
    "    plt.show()\n",
    "\n",
    "stats = {\n",
    "    'score': 0,\n",
    "    'runtime': 1\n",
    "}\n",
    "\n",
    "compare_plot(stats['score'])\n"
   ]
  },
  {
   "cell_type": "code",
   "execution_count": null,
   "metadata": {
    "collapsed": true
   },
   "outputs": [],
   "source": []
  }
 ],
 "metadata": {
  "celltoolbar": "Raw Cell Format",
  "colab": {
   "default_view": {},
   "name": "1_notmnist.ipynb",
   "provenance": [],
   "version": "0.3.2",
   "views": {}
  },
  "kernelspec": {
   "display_name": "Python [default]",
   "language": "python",
   "name": "python3"
  },
  "language_info": {
   "codemirror_mode": {
    "name": "ipython",
    "version": 3
   },
   "file_extension": ".py",
   "mimetype": "text/x-python",
   "name": "python",
   "nbconvert_exporter": "python",
   "pygments_lexer": "ipython3",
   "version": "3.5.2"
  },
  "toc": {
   "colors": {
    "hover_highlight": "#DAA520",
    "running_highlight": "#FF0000",
    "selected_highlight": "#FFD700"
   },
   "moveMenuLeft": true,
   "nav_menu": {
    "height": "155px",
    "width": "251px"
   },
   "navigate_menu": true,
   "number_sections": true,
   "sideBar": true,
   "threshold": 4,
   "toc_cell": false,
   "toc_section_display": "block",
   "toc_window_display": false
  }
 },
 "nbformat": 4,
 "nbformat_minor": 0
}
