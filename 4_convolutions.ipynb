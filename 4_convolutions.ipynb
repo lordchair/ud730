{
 "cells": [
  {
   "cell_type": "markdown",
   "metadata": {
    "colab_type": "text",
    "id": "4embtkV0pNxM"
   },
   "source": [
    "Deep Learning\n",
    "=============\n",
    "\n",
    "Assignment 4\n",
    "------------\n",
    "\n",
    "Previously in `2_fullyconnected.ipynb` and `3_regularization.ipynb`, we trained fully connected networks to classify [notMNIST](http://yaroslavvb.blogspot.com/2011/09/notmnist-dataset.html) characters.\n",
    "\n",
    "The goal of this assignment is make the neural network convolutional."
   ]
  },
  {
   "cell_type": "code",
   "execution_count": 43,
   "metadata": {
    "ExecuteTime": {
     "end_time": "2017-02-19T09:58:18.655251",
     "start_time": "2017-02-19T09:58:18.651177"
    },
    "cellView": "both",
    "colab": {
     "autoexec": {
      "startup": false,
      "wait_interval": 0
     }
    },
    "colab_type": "code",
    "collapsed": true,
    "id": "tm2CQN_Cpwj0"
   },
   "outputs": [],
   "source": [
    "# These are all the modules we'll be using later. Make sure you can import them\n",
    "# before proceeding further.\n",
    "from __future__ import print_function\n",
    "import numpy as np\n",
    "import tensorflow as tf\n",
    "from timeit import default_timer as timer\n",
    "from six.moves import cPickle as pickle\n",
    "from six.moves import range"
   ]
  },
  {
   "cell_type": "code",
   "execution_count": 2,
   "metadata": {
    "ExecuteTime": {
     "end_time": "2017-02-19T08:02:52.912544",
     "start_time": "2017-02-19T08:02:50.997339"
    },
    "cellView": "both",
    "colab": {
     "autoexec": {
      "startup": false,
      "wait_interval": 0
     },
     "output_extras": [
      {
       "item_id": 1
      }
     ]
    },
    "colab_type": "code",
    "collapsed": false,
    "executionInfo": {
     "elapsed": 11948,
     "status": "ok",
     "timestamp": 1446658914837,
     "user": {
      "color": "",
      "displayName": "",
      "isAnonymous": false,
      "isMe": true,
      "permissionId": "",
      "photoUrl": "",
      "sessionId": "0",
      "userId": ""
     },
     "user_tz": 480
    },
    "id": "y3-cj1bpmuxc",
    "outputId": "016b1a51-0290-4b08-efdb-8c95ffc3cd01"
   },
   "outputs": [
    {
     "name": "stdout",
     "output_type": "stream",
     "text": [
      "Training set (200000, 28, 28) (200000,)\n",
      "Validation set (10000, 28, 28) (10000,)\n",
      "Test set (10000, 28, 28) (10000,)\n"
     ]
    }
   ],
   "source": [
    "pickle_file = 'notMNIST.pickle'\n",
    "\n",
    "\n",
    "def load_data(data):\n",
    "    global test_dataset\n",
    "    test_dataset = data[0][1]\n",
    "    global test_labels\n",
    "    test_labels = data[0][2]\n",
    "    global valid_dataset\n",
    "    valid_dataset = data[1][1]\n",
    "    global valid_labels\n",
    "    valid_labels = data[1][2]\n",
    "    global train_dataset\n",
    "    train_dataset = data[2][1]\n",
    "    global train_labels\n",
    "    train_labels = data[2][2]\n",
    "    \n",
    "def print_data_shape():\n",
    "    print('Training set', train_dataset.shape, train_labels.shape)\n",
    "    print('Validation set', valid_dataset.shape, valid_labels.shape)\n",
    "    print('Test set', test_dataset.shape, test_labels.shape)\n",
    "\n",
    "with open(pickle_file, 'rb') as f:\n",
    "    sets = pickle.load(f)\n",
    "    load_data(sets['unsanitized'])\n",
    "    del sets  # hint to help gc free up memory\n",
    "    print_data_shape()\n",
    "    "
   ]
  },
  {
   "cell_type": "markdown",
   "metadata": {
    "colab_type": "text",
    "id": "L7aHrm6nGDMB"
   },
   "source": [
    "Reformat into a TensorFlow-friendly shape:\n",
    "- convolutions need the image data formatted as a cube (width by height by #channels)\n",
    "- labels as float 1-hot encodings."
   ]
  },
  {
   "cell_type": "code",
   "execution_count": 3,
   "metadata": {
    "ExecuteTime": {
     "end_time": "2017-02-19T08:03:00.688281",
     "start_time": "2017-02-19T08:03:00.346618"
    },
    "cellView": "both",
    "colab": {
     "autoexec": {
      "startup": false,
      "wait_interval": 0
     },
     "output_extras": [
      {
       "item_id": 1
      }
     ]
    },
    "colab_type": "code",
    "collapsed": false,
    "executionInfo": {
     "elapsed": 11952,
     "status": "ok",
     "timestamp": 1446658914857,
     "user": {
      "color": "",
      "displayName": "",
      "isAnonymous": false,
      "isMe": true,
      "permissionId": "",
      "photoUrl": "",
      "sessionId": "0",
      "userId": ""
     },
     "user_tz": 480
    },
    "id": "IRSyYiIIGIzS",
    "outputId": "650a208c-8359-4852-f4f5-8bf10e80ef6c"
   },
   "outputs": [
    {
     "name": "stdout",
     "output_type": "stream",
     "text": [
      "Training set (200000, 28, 28, 1) (200000, 10)\n",
      "Validation set (10000, 28, 28, 1) (10000, 10)\n",
      "Test set (10000, 28, 28, 1) (10000, 10)\n"
     ]
    }
   ],
   "source": [
    "image_size = 28\n",
    "num_labels = 10\n",
    "num_channels = 1 # grayscale\n",
    "\n",
    "import numpy as np\n",
    "\n",
    "def reformat(dataset, labels):\n",
    "  dataset = dataset.reshape(\n",
    "    (-1, image_size, image_size, num_channels)).astype(np.float32)\n",
    "  labels = (np.arange(num_labels) == labels[:,None]).astype(np.float32)\n",
    "  return dataset, labels\n",
    "train_dataset, train_labels = reformat(train_dataset, train_labels)\n",
    "valid_dataset, valid_labels = reformat(valid_dataset, valid_labels)\n",
    "test_dataset, test_labels = reformat(test_dataset, test_labels)\n",
    "print('Training set', train_dataset.shape, train_labels.shape)\n",
    "print('Validation set', valid_dataset.shape, valid_labels.shape)\n",
    "print('Test set', test_dataset.shape, test_labels.shape)"
   ]
  },
  {
   "cell_type": "code",
   "execution_count": 5,
   "metadata": {
    "ExecuteTime": {
     "end_time": "2017-02-19T08:03:28.657882",
     "start_time": "2017-02-19T08:03:28.641620"
    },
    "cellView": "both",
    "colab": {
     "autoexec": {
      "startup": false,
      "wait_interval": 0
     }
    },
    "colab_type": "code",
    "collapsed": true,
    "id": "AgQDIREv02p1"
   },
   "outputs": [],
   "source": [
    "def accuracy(predictions, labels):\n",
    "    return (100.0 * np.sum(np.argmax(predictions, 1) == np.argmax(labels, 1)) / predictions.shape[0])\n",
    "\n",
    "def make_weights(shape):\n",
    "    return tf.Variable(tf.truncated_normal(shape, stddev=0.1))\n",
    "\n",
    "def make_xavier_weights(shape, name):\n",
    "    return tf.get_variable(name, shape, initializer=tf.contrib.layers.xavier_initializer())\n",
    "\n",
    "def make_bias(shape, constant=0.1):\n",
    "    return tf.Variable(tf.constant(constant, shape=shape))\n",
    "\n",
    "iteration_log = []\n",
    "def log_step(start_time, duration, progress, loss, batch_acc, valid_acc=False, test_acc=False):\n",
    "    iteration_log.append([start_time, duration, progress, loss, batch_acc, valid_acc, test_acc])\n",
    "    print('>>>>>', int(progress * 100), '% done')\n",
    "    print(\"time to execute last %d minibatches: %f\" % (int(num_steps / num_prints), duration))\n",
    "    print()\n",
    "    print(\"loss of last minibatch %f\" % loss)\n",
    "    print(\"accuracy on last minibatch: %.1f%%\" % batch_acc)\n",
    "    print()\n",
    "    if (valid_acc):\n",
    "        print(\"model's current accuracy against validation data : %.1f%%\" % valid_acc)\n",
    "    if (test_acc):\n",
    "        print(\"model's current accuracy against test data       : %.1f%%\" % test_acc)\n",
    "    print()\n"
   ]
  },
  {
   "cell_type": "markdown",
   "metadata": {
    "colab_type": "text",
    "id": "5rhgjmROXu2O"
   },
   "source": [
    "Let's build a small network with two convolutional layers, followed by one fully connected layer. Convolutional networks are more expensive computationally, so we'll limit its depth and number of fully connected nodes."
   ]
  },
  {
   "cell_type": "code",
   "execution_count": 8,
   "metadata": {
    "ExecuteTime": {
     "end_time": "2017-02-19T08:21:30.852161",
     "start_time": "2017-02-19T08:21:30.584936"
    },
    "collapsed": false
   },
   "outputs": [],
   "source": [
    "batch_size = 16\n",
    "patch_size = 5\n",
    "depth = 16\n",
    "num_hidden = 64\n",
    "\n",
    "graph = tf.Graph()\n",
    "\n",
    "with graph.as_default():\n",
    "\n",
    "    # Input data.\n",
    "    tf_train_dataset = tf.placeholder( tf.float32, shape=(batch_size, image_size, image_size, num_channels))\n",
    "    tf_train_labels = tf.placeholder(tf.float32, shape=(batch_size, num_labels))\n",
    "    tf_valid_dataset = tf.constant(valid_dataset)\n",
    "    tf_test_dataset = tf.constant(test_dataset)\n",
    "\n",
    "    # Variables.\n",
    "    layer1_weights = tf.Variable(tf.truncated_normal( [patch_size, patch_size, num_channels, depth], stddev=0.1))\n",
    "    layer1_biases = tf.Variable(tf.zeros([depth]))\n",
    "    layer2_weights = tf.Variable(tf.truncated_normal( [patch_size, patch_size, depth, depth], stddev=0.1))\n",
    "    layer2_biases = tf.Variable(tf.constant(1.0, shape=[depth]))\n",
    "    layer3_weights = tf.Variable(tf.truncated_normal( [image_size // 4 * image_size // 4 * depth, num_hidden], stddev=0.1))\n",
    "    layer3_biases = tf.Variable(tf.constant(1.0, shape=[num_hidden]))\n",
    "    layer4_weights = tf.Variable(tf.truncated_normal( [num_hidden, num_labels], stddev=0.1))\n",
    "    layer4_biases = tf.Variable(tf.constant(1.0, shape=[num_labels]))\n",
    "\n",
    "    # Model.\n",
    "    def model(data):\n",
    "        conv = tf.nn.conv2d(data, layer1_weights, [1, 2, 2, 1], padding='SAME')\n",
    "        hidden = tf.nn.relu(conv + layer1_biases)\n",
    "        conv = tf.nn.conv2d(hidden, layer2_weights, [1, 2, 2, 1], padding='SAME')\n",
    "        hidden = tf.nn.relu(conv + layer2_biases)\n",
    "        shape = hidden.get_shape().as_list()\n",
    "        reshape = tf.reshape(hidden, [shape[0], shape[1] * shape[2] * shape[3]])\n",
    "        hidden = tf.nn.relu(tf.matmul(reshape, layer3_weights) + layer3_biases)\n",
    "        return tf.matmul(hidden, layer4_weights) + layer4_biases\n",
    "\n",
    "    # Training computation.\n",
    "    logits = model(tf_train_dataset)\n",
    "    loss = tf.reduce_mean(\n",
    "    tf.nn.softmax_cross_entropy_with_logits(labels=tf_train_labels, logits=logits))\n",
    "\n",
    "    # Optimizer.\n",
    "    optimizer = tf.train.GradientDescentOptimizer(0.05).minimize(loss)\n",
    "\n",
    "    # Predictions for the training, validation, and test data.\n",
    "    train_prediction = tf.nn.softmax(logits)\n",
    "    valid_prediction = tf.nn.softmax(model(tf_valid_dataset))\n",
    "    test_prediction = tf.nn.softmax(model(tf_test_dataset))"
   ]
  },
  {
   "cell_type": "code",
   "execution_count": 9,
   "metadata": {
    "ExecuteTime": {
     "end_time": "2017-02-19T08:21:49.552563",
     "start_time": "2017-02-19T08:21:31.111394"
    },
    "cellView": "both",
    "colab": {
     "autoexec": {
      "startup": false,
      "wait_interval": 0
     },
     "output_extras": [
      {
       "item_id": 37
      }
     ]
    },
    "colab_type": "code",
    "collapsed": false,
    "executionInfo": {
     "elapsed": 63292,
     "status": "ok",
     "timestamp": 1446658966251,
     "user": {
      "color": "",
      "displayName": "",
      "isAnonymous": false,
      "isMe": true,
      "permissionId": "",
      "photoUrl": "",
      "sessionId": "0",
      "userId": ""
     },
     "user_tz": 480
    },
    "id": "noKFb2UovVFR",
    "outputId": "28941338-2ef9-4088-8bd1-44295661e628",
    "scrolled": true
   },
   "outputs": [
    {
     "name": "stdout",
     "output_type": "stream",
     "text": [
      "Initialized\n",
      "Minibatch loss at step 0: 3.656298\n",
      "Minibatch accuracy: 12.5%\n",
      "Validation accuracy: 11.3%\n",
      "Minibatch loss at step 50: 1.723300\n",
      "Minibatch accuracy: 43.8%\n",
      "Validation accuracy: 48.2%\n",
      "Minibatch loss at step 100: 1.395713\n",
      "Minibatch accuracy: 56.2%\n",
      "Validation accuracy: 70.2%\n",
      "Minibatch loss at step 150: 0.553474\n",
      "Minibatch accuracy: 75.0%\n",
      "Validation accuracy: 76.7%\n",
      "Minibatch loss at step 200: 0.644388\n",
      "Minibatch accuracy: 81.2%\n",
      "Validation accuracy: 77.2%\n",
      "Minibatch loss at step 250: 1.160439\n",
      "Minibatch accuracy: 62.5%\n",
      "Validation accuracy: 78.6%\n",
      "Minibatch loss at step 300: 0.530756\n",
      "Minibatch accuracy: 75.0%\n",
      "Validation accuracy: 79.3%\n",
      "Minibatch loss at step 350: 0.229902\n",
      "Minibatch accuracy: 87.5%\n",
      "Validation accuracy: 78.1%\n",
      "Minibatch loss at step 400: 0.247715\n",
      "Minibatch accuracy: 100.0%\n",
      "Validation accuracy: 80.0%\n",
      "Minibatch loss at step 450: 0.393775\n",
      "Minibatch accuracy: 93.8%\n",
      "Validation accuracy: 80.6%\n",
      "Minibatch loss at step 500: 0.521885\n",
      "Minibatch accuracy: 81.2%\n",
      "Validation accuracy: 80.5%\n",
      "Minibatch loss at step 550: 0.734004\n",
      "Minibatch accuracy: 81.2%\n",
      "Validation accuracy: 80.8%\n",
      "Minibatch loss at step 600: 0.416281\n",
      "Minibatch accuracy: 87.5%\n",
      "Validation accuracy: 80.5%\n",
      "Minibatch loss at step 650: 0.625129\n",
      "Minibatch accuracy: 81.2%\n",
      "Validation accuracy: 81.1%\n",
      "Minibatch loss at step 700: 1.178967\n",
      "Minibatch accuracy: 56.2%\n",
      "Validation accuracy: 82.6%\n",
      "Minibatch loss at step 750: 0.527848\n",
      "Minibatch accuracy: 75.0%\n",
      "Validation accuracy: 82.3%\n",
      "Minibatch loss at step 800: 0.492494\n",
      "Minibatch accuracy: 87.5%\n",
      "Validation accuracy: 82.5%\n",
      "Minibatch loss at step 850: 0.444130\n",
      "Minibatch accuracy: 87.5%\n",
      "Validation accuracy: 82.5%\n",
      "Minibatch loss at step 900: 0.909302\n",
      "Minibatch accuracy: 75.0%\n",
      "Validation accuracy: 82.8%\n",
      "Minibatch loss at step 950: 0.893573\n",
      "Minibatch accuracy: 75.0%\n",
      "Validation accuracy: 82.8%\n",
      "Minibatch loss at step 1000: 0.391810\n",
      "Minibatch accuracy: 81.2%\n",
      "Validation accuracy: 81.9%\n",
      "Test accuracy: 88.7%\n"
     ]
    }
   ],
   "source": [
    "num_steps = 1001\n",
    "\n",
    "with tf.Session(graph=graph) as session:\n",
    "    tf.global_variables_initializer().run()\n",
    "    print('Initialized')\n",
    "    for step in range(num_steps):\n",
    "        offset = (step * batch_size) % (train_labels.shape[0] - batch_size)\n",
    "        batch_data = train_dataset[offset:(offset + batch_size), :, :, :]\n",
    "        batch_labels = train_labels[offset:(offset + batch_size), :]\n",
    "        feed_dict = {tf_train_dataset : batch_data, tf_train_labels : batch_labels}\n",
    "        _, l, predictions = session.run([optimizer, loss, train_prediction], feed_dict=feed_dict)\n",
    "        if (step % 50 == 0):\n",
    "            print('Minibatch loss at step %d: %f' % (step, l))\n",
    "            print('Minibatch accuracy: %.1f%%' % accuracy(predictions, batch_labels))\n",
    "            print('Validation accuracy: %.1f%%' % accuracy( valid_prediction.eval(), valid_labels))\n",
    "    print('Test accuracy: %.1f%%' % accuracy(test_prediction.eval(), test_labels))"
   ]
  },
  {
   "cell_type": "markdown",
   "metadata": {
    "colab_type": "text",
    "id": "KedKkn4EutIK"
   },
   "source": [
    "---\n",
    "Problem 1\n",
    "---------\n",
    "\n",
    "The convolutional model above uses convolutions with stride 2 to reduce the dimensionality. Replace the strides by a max pooling operation (`nn.max_pool()`) of stride 2 and kernel size 2.\n",
    "\n",
    "---"
   ]
  },
  {
   "cell_type": "code",
   "execution_count": 11,
   "metadata": {
    "ExecuteTime": {
     "end_time": "2017-02-19T08:27:06.753484",
     "start_time": "2017-02-19T08:27:06.505553"
    },
    "collapsed": false
   },
   "outputs": [],
   "source": [
    "batch_size = 16\n",
    "patch_size = 5\n",
    "depth = 16\n",
    "num_hidden = 64\n",
    "\n",
    "graph = tf.Graph()\n",
    "\n",
    "with graph.as_default():\n",
    "\n",
    "    # Input data.\n",
    "    tf_train_dataset = tf.placeholder( tf.float32, shape=(batch_size, image_size, image_size, num_channels))\n",
    "    tf_train_labels = tf.placeholder(tf.float32, shape=(batch_size, num_labels))\n",
    "    tf_valid_dataset = tf.constant(valid_dataset)\n",
    "    tf_test_dataset = tf.constant(test_dataset)\n",
    "\n",
    "    # Variables.\n",
    "    layer1_biases = tf.Variable(tf.zeros([depth]))\n",
    "    layer2_biases = tf.Variable(tf.constant(1.0, shape=[depth]))\n",
    "    layer3_weights = tf.Variable(tf.truncated_normal( [image_size // 4 * image_size // 4 * depth, num_hidden], stddev=0.1))\n",
    "    layer3_biases = tf.Variable(tf.constant(1.0, shape=[num_hidden]))\n",
    "    layer4_weights = tf.Variable(tf.truncated_normal( [num_hidden, num_labels], stddev=0.1))\n",
    "    layer4_biases = tf.Variable(tf.constant(1.0, shape=[num_labels]))\n",
    "\n",
    "    # Model.\n",
    "    def model(data):\n",
    "        conv = tf.nn.max_pool(data, [1, 2, 2, 1], [1, 2, 2, 1], padding='SAME')\n",
    "        hidden = tf.nn.relu(conv + layer1_biases)\n",
    "        conv = tf.nn.max_pool(hidden, [1, 2, 2, 1], [1, 2, 2, 1], padding='SAME')\n",
    "        hidden = tf.nn.relu(conv + layer2_biases)\n",
    "        shape = hidden.get_shape().as_list()\n",
    "        reshape = tf.reshape(hidden, [shape[0], shape[1] * shape[2] * shape[3]])\n",
    "        hidden = tf.nn.relu(tf.matmul(reshape, layer3_weights) + layer3_biases)\n",
    "        return tf.matmul(hidden, layer4_weights) + layer4_biases\n",
    "\n",
    "    # Training computation.\n",
    "    logits = model(tf_train_dataset)\n",
    "    loss = tf.reduce_mean(\n",
    "    tf.nn.softmax_cross_entropy_with_logits(labels=tf_train_labels, logits=logits))\n",
    "\n",
    "    # Optimizer.\n",
    "    optimizer = tf.train.GradientDescentOptimizer(0.05).minimize(loss)\n",
    "\n",
    "    # Predictions for the training, validation, and test data.\n",
    "    train_prediction = tf.nn.softmax(logits)\n",
    "    valid_prediction = tf.nn.softmax(model(tf_valid_dataset))\n",
    "    test_prediction = tf.nn.softmax(model(tf_test_dataset))"
   ]
  },
  {
   "cell_type": "code",
   "execution_count": 12,
   "metadata": {
    "ExecuteTime": {
     "end_time": "2017-02-19T08:27:17.794444",
     "start_time": "2017-02-19T08:27:08.876115"
    },
    "cellView": "both",
    "colab": {
     "autoexec": {
      "startup": false,
      "wait_interval": 0
     },
     "output_extras": [
      {
       "item_id": 37
      }
     ]
    },
    "colab_type": "code",
    "collapsed": false,
    "executionInfo": {
     "elapsed": 63292,
     "status": "ok",
     "timestamp": 1446658966251,
     "user": {
      "color": "",
      "displayName": "",
      "isAnonymous": false,
      "isMe": true,
      "permissionId": "",
      "photoUrl": "",
      "sessionId": "0",
      "userId": ""
     },
     "user_tz": 480
    },
    "id": "noKFb2UovVFR",
    "outputId": "28941338-2ef9-4088-8bd1-44295661e628",
    "scrolled": true
   },
   "outputs": [
    {
     "name": "stdout",
     "output_type": "stream",
     "text": [
      "Initialized\n",
      "Minibatch loss at step 0: 4.446263\n",
      "Minibatch accuracy: 6.2%\n",
      "Validation accuracy: 10.0%\n",
      "Minibatch loss at step 50: 2.372881\n",
      "Minibatch accuracy: 6.2%\n",
      "Validation accuracy: 16.5%\n",
      "Minibatch loss at step 100: 2.163402\n",
      "Minibatch accuracy: 12.5%\n",
      "Validation accuracy: 11.5%\n",
      "Minibatch loss at step 150: 1.955537\n",
      "Minibatch accuracy: 31.2%\n",
      "Validation accuracy: 18.0%\n",
      "Minibatch loss at step 200: 2.464423\n",
      "Minibatch accuracy: 18.8%\n",
      "Validation accuracy: 19.3%\n",
      "Minibatch loss at step 250: 2.593349\n",
      "Minibatch accuracy: 12.5%\n",
      "Validation accuracy: 15.8%\n",
      "Minibatch loss at step 300: 1.684439\n",
      "Minibatch accuracy: 37.5%\n",
      "Validation accuracy: 40.5%\n",
      "Minibatch loss at step 350: 1.745638\n",
      "Minibatch accuracy: 56.2%\n",
      "Validation accuracy: 35.8%\n",
      "Minibatch loss at step 400: 1.178022\n",
      "Minibatch accuracy: 56.2%\n",
      "Validation accuracy: 48.7%\n",
      "Minibatch loss at step 450: 1.287710\n",
      "Minibatch accuracy: 62.5%\n",
      "Validation accuracy: 45.2%\n",
      "Minibatch loss at step 500: 1.490352\n",
      "Minibatch accuracy: 50.0%\n",
      "Validation accuracy: 56.8%\n",
      "Minibatch loss at step 550: 1.498520\n",
      "Minibatch accuracy: 43.8%\n",
      "Validation accuracy: 59.1%\n",
      "Minibatch loss at step 600: 0.850447\n",
      "Minibatch accuracy: 68.8%\n",
      "Validation accuracy: 61.6%\n",
      "Minibatch loss at step 650: 1.340768\n",
      "Minibatch accuracy: 68.8%\n",
      "Validation accuracy: 68.0%\n",
      "Minibatch loss at step 700: 2.542007\n",
      "Minibatch accuracy: 31.2%\n",
      "Validation accuracy: 57.5%\n",
      "Minibatch loss at step 750: 0.916825\n",
      "Minibatch accuracy: 56.2%\n",
      "Validation accuracy: 61.0%\n",
      "Minibatch loss at step 800: 0.592023\n",
      "Minibatch accuracy: 87.5%\n",
      "Validation accuracy: 73.1%\n",
      "Minibatch loss at step 850: 0.722355\n",
      "Minibatch accuracy: 81.2%\n",
      "Validation accuracy: 67.7%\n",
      "Minibatch loss at step 900: 1.104209\n",
      "Minibatch accuracy: 75.0%\n",
      "Validation accuracy: 74.0%\n",
      "Minibatch loss at step 950: 1.204520\n",
      "Minibatch accuracy: 56.2%\n",
      "Validation accuracy: 68.9%\n",
      "Minibatch loss at step 1000: 0.767906\n",
      "Minibatch accuracy: 87.5%\n",
      "Validation accuracy: 68.5%\n",
      "Test accuracy: 74.6%\n"
     ]
    }
   ],
   "source": [
    "num_steps = 1001\n",
    "\n",
    "with tf.Session(graph=graph) as session:\n",
    "    tf.global_variables_initializer().run()\n",
    "    print('Initialized')\n",
    "    for step in range(num_steps):\n",
    "        offset = (step * batch_size) % (train_labels.shape[0] - batch_size)\n",
    "        batch_data = train_dataset[offset:(offset + batch_size), :, :, :]\n",
    "        batch_labels = train_labels[offset:(offset + batch_size), :]\n",
    "        feed_dict = {tf_train_dataset : batch_data, tf_train_labels : batch_labels}\n",
    "        _, l, predictions = session.run([optimizer, loss, train_prediction], feed_dict=feed_dict)\n",
    "        if (step % 50 == 0):\n",
    "            print('Minibatch loss at step %d: %f' % (step, l))\n",
    "            print('Minibatch accuracy: %.1f%%' % accuracy(predictions, batch_labels))\n",
    "            print('Validation accuracy: %.1f%%' % accuracy( valid_prediction.eval(), valid_labels))\n",
    "    print('Test accuracy: %.1f%%' % accuracy(test_prediction.eval(), test_labels))"
   ]
  },
  {
   "cell_type": "markdown",
   "metadata": {
    "colab_type": "text",
    "id": "klf21gpbAgb-"
   },
   "source": [
    "---\n",
    "Problem 2\n",
    "---------\n",
    "\n",
    "Try to get the best performance you can using a convolutional net. Look for example at the classic [LeNet5](http://yann.lecun.com/exdb/lenet/) architecture, adding Dropout, and/or adding learning rate decay.\n",
    "\n",
    "---"
   ]
  },
  {
   "cell_type": "code",
   "execution_count": 57,
   "metadata": {
    "ExecuteTime": {
     "end_time": "2017-02-19T11:13:12.610754",
     "start_time": "2017-02-19T11:13:11.790295"
    },
    "cellView": "both",
    "colab": {
     "autoexec": {
      "startup": false,
      "wait_interval": 0
     }
    },
    "colab_type": "code",
    "collapsed": false,
    "id": "IZYv70SvvOan",
    "scrolled": false
   },
   "outputs": [
    {
     "name": "stdout",
     "output_type": "stream",
     "text": [
      "input:  (64, 28, 28, 1)\n",
      "(64, 28, 28, 4)\n",
      "layer 0\n",
      "(5, 5, 1, 4)\n",
      "(64, 14, 14, 4)\n",
      "layer 1\n",
      "(5, 5, 4, 6)\n",
      "(64, 7, 7, 6)\n",
      "(64, 294)\n",
      "layer 2\n",
      "(294, 64)\n",
      "(64, 64)\n",
      "logits:  (64, 10)\n",
      "input:  (10000, 28, 28, 1)\n",
      "(10000, 28, 28, 4)\n",
      "layer 0\n",
      "(5, 5, 1, 4)\n",
      "(10000, 14, 14, 4)\n",
      "layer 1\n",
      "(5, 5, 4, 6)\n",
      "(10000, 7, 7, 6)\n",
      "(10000, 294)\n",
      "layer 2\n",
      "(294, 64)\n",
      "(10000, 64)\n",
      "logits:  (10000, 10)\n",
      "input:  (10000, 28, 28, 1)\n",
      "(10000, 28, 28, 4)\n",
      "layer 0\n",
      "(5, 5, 1, 4)\n",
      "(10000, 14, 14, 4)\n",
      "layer 1\n",
      "(5, 5, 4, 6)\n",
      "(10000, 7, 7, 6)\n",
      "(10000, 294)\n",
      "layer 2\n",
      "(294, 64)\n",
      "(10000, 64)\n",
      "logits:  (10000, 10)\n"
     ]
    }
   ],
   "source": [
    "batch_size = 128\n",
    "num_relus = 1024\n",
    "start_learning_rate = 0.1\n",
    "beta_loss_coefficient = 0.001\n",
    "\n",
    "batch_size = 64 \n",
    "patch_size = 5\n",
    "depth = [4, 6] \n",
    "num_hidden = 64\n",
    "\n",
    "layer_shape = [image_size * image_size, 1024, 1024, 1024, num_labels]\n",
    "\n",
    "graph = tf.Graph()\n",
    "with graph.as_default():\n",
    "\n",
    "    # Input data. For the training data, we use a placeholder that will be fed\n",
    "    # at run time with a training minibatch.\n",
    "    tf_train_dataset = tf.placeholder( tf.float32, shape=(batch_size, image_size, image_size, num_channels))\n",
    "    tf_train_labels = tf.placeholder(tf.float32, shape=(batch_size, num_labels))\n",
    "    tf_valid_dataset = tf.constant(valid_dataset)\n",
    "    tf_test_dataset = tf.constant(test_dataset)\n",
    "    \n",
    "    # Variables.\n",
    "    \n",
    "    weights = [\n",
    "        make_xavier_weights([patch_size, patch_size, num_channels, depth[0]], '0_conv_layer'),\n",
    "        make_xavier_weights([patch_size, patch_size, depth[0], depth[1]], '2_conv_layer'),\n",
    "        make_xavier_weights([image_size // 4 * image_size // 4 * depth[1], num_hidden], '4_connected'),\n",
    "        make_xavier_weights([num_hidden, num_labels], '5_connected'),\n",
    "    ];\n",
    "    biases = [\n",
    "        make_bias([depth[0]]),\n",
    "        make_bias([depth[1]]),\n",
    "        make_bias([num_hidden]),\n",
    "        make_bias([num_labels]),\n",
    "    ];\n",
    "    dropout = [\n",
    "        .5,\n",
    "#         .5,\n",
    "        .5,\n",
    "#         .5,\n",
    "        .5\n",
    "    ]\n",
    "    \n",
    "     \n",
    "    def model(data, should_print=True):\n",
    "        if (should_print): print('input: ', data.get_shape())\n",
    "        conv = tf.nn.conv2d(data, weights[0], [1, 1, 1, 1], padding='SAME')\n",
    "        if (should_print): print(conv.get_shape())\n",
    "        subsample = tf.nn.max_pool(conv, [1, 2, 2, 1], [1, 2, 2, 1], padding='SAME')\n",
    "        hidden = tf.nn.relu(subsample + biases[0])\n",
    "        if (dropout[0] > 0 and dropout[0] < 1):\n",
    "            hidden = tf.nn.dropout(hidden, dropout[0])\n",
    "        if (should_print): print('layer 0')\n",
    "        if (should_print): print(weights[0].get_shape())\n",
    "        if (should_print): print(hidden.get_shape())\n",
    "        \n",
    "        conv = tf.nn.conv2d(hidden, weights[1], [1, 1, 1, 1], padding='SAME')\n",
    "        subsample = tf.nn.max_pool(conv, [1, 2, 2, 1], [1, 2, 2, 1], padding='SAME')\n",
    "        hidden = tf.nn.relu(subsample + biases[1])\n",
    "        if (dropout[1] > 0 and dropout[1] < 1):\n",
    "            hidden = tf.nn.dropout(hidden, dropout[1])\n",
    "        if (should_print): print('layer 1')\n",
    "        if (should_print): print(weights[1].get_shape())\n",
    "        if (should_print): print(hidden.get_shape())\n",
    "        \n",
    "        \n",
    "        shape = hidden.get_shape().as_list()\n",
    "        reshape = tf.reshape(hidden, [shape[0], shape[1] * shape[2] * shape[3]])\n",
    "        if (should_print): print(reshape.get_shape())\n",
    "        \n",
    "        \n",
    "        connected = tf.matmul(reshape, weights[2])\n",
    "        hidden = tf.nn.relu(connected + biases[2])\n",
    "        if (dropout[2] > 0 and dropout[2] < 1):\n",
    "            hidden = tf.nn.dropout(hidden, dropout[2])\n",
    "        if (should_print): print('layer 2')\n",
    "        if (should_print): print(weights[2].get_shape())\n",
    "        if (should_print): print(hidden.get_shape())\n",
    "        \n",
    "        logits = tf.matmul(hidden, weights[3]) \n",
    "        print('logits: ', logits.get_shape())\n",
    "        return logits + biases[3]\n",
    "    \n",
    "    \n",
    "    logits = model(tf_train_dataset)\n",
    "    \n",
    "    unreduced_loss = tf.nn.softmax_cross_entropy_with_logits(labels=tf_train_labels, logits=logits)\n",
    "    for i in range(len(weights)):\n",
    "        unreduced_loss = unreduced_loss + beta_loss_coefficient * tf.nn.l2_loss(weights[i])\n",
    "        unreduced_loss = unreduced_loss + beta_loss_coefficient * tf.nn.l2_loss(biases[i])\n",
    "    \n",
    "    loss = tf.reduce_mean(unreduced_loss)\n",
    "    \n",
    "    # Optimizer.\n",
    "    global_step = tf.Variable(0)  # count the number of steps taken.\n",
    "    learning_rate = tf.train.exponential_decay(start_learning_rate, num_steps, 100000, 0.96, staircase=True)\n",
    "    # Use simple momentum for the optimization.\n",
    "#     optimizer = tf.train.MomentumOptimizer(learning_rate, 0.9).minimize(loss, global_step=global_step)\n",
    "    optimizer = tf.train.GradientDescentOptimizer(learning_rate).minimize(loss, global_step=global_step)\n",
    "    \n",
    "    # Predictions for the training, validation, and test data.\n",
    "    train_prediction = tf.nn.softmax(logits)\n",
    "    valid_prediction = tf.nn.softmax(model(tf_valid_dataset))\n",
    "    test_prediction = tf.nn.softmax(model(tf_test_dataset))\n"
   ]
  },
  {
   "cell_type": "code",
   "execution_count": 59,
   "metadata": {
    "ExecuteTime": {
     "end_time": "2017-02-19T11:18:04.376522",
     "start_time": "2017-02-19T11:16:01.443323"
    },
    "collapsed": false,
    "scrolled": true
   },
   "outputs": [
    {
     "name": "stdout",
     "output_type": "stream",
     "text": [
      "Initialized\n",
      ">>>>> 0 % done\n",
      "time to execute last 500 minibatches: 0.406662\n",
      "\n",
      "loss of last minibatch 2.758705\n",
      "accuracy on last minibatch: 14.1%\n",
      "\n",
      "model's current accuracy against validation data : 11.4%\n",
      "model's current accuracy against test data       : 11.3%\n",
      "\n",
      ">>>>> 0 % done\n",
      "time to execute last 500 minibatches: 10.292171\n",
      "\n",
      "loss of last minibatch 1.051962\n",
      "accuracy on last minibatch: 67.2%\n",
      "\n",
      "model's current accuracy against validation data : 64.1%\n",
      "model's current accuracy against test data       : 70.2%\n",
      "\n",
      ">>>>> 0 % done\n",
      "time to execute last 500 minibatches: 10.537870\n",
      "\n",
      "loss of last minibatch 1.170667\n",
      "accuracy on last minibatch: 59.4%\n",
      "\n",
      "model's current accuracy against validation data : 69.1%\n",
      "model's current accuracy against test data       : 77.0%\n",
      "\n",
      ">>>>> 0 % done\n",
      "time to execute last 500 minibatches: 10.518086\n",
      "\n",
      "loss of last minibatch 0.862216\n",
      "accuracy on last minibatch: 71.9%\n",
      "\n",
      "model's current accuracy against validation data : 72.5%\n",
      "model's current accuracy against test data       : 79.2%\n",
      "\n",
      ">>>>> 0 % done\n",
      "time to execute last 500 minibatches: 10.323332\n",
      "\n",
      "loss of last minibatch 1.038839\n",
      "accuracy on last minibatch: 70.3%\n",
      "\n",
      "model's current accuracy against validation data : 72.6%\n",
      "model's current accuracy against test data       : 80.2%\n",
      "\n",
      ">>>>> 0 % done\n",
      "time to execute last 500 minibatches: 10.448884\n",
      "\n",
      "loss of last minibatch 1.027613\n",
      "accuracy on last minibatch: 71.9%\n",
      "\n",
      "model's current accuracy against validation data : 74.7%\n",
      "model's current accuracy against test data       : 80.7%\n",
      "\n",
      ">>>>> 0 % done\n",
      "time to execute last 500 minibatches: 10.670943\n",
      "\n",
      "loss of last minibatch 0.845708\n",
      "accuracy on last minibatch: 78.1%\n",
      "\n",
      "model's current accuracy against validation data : 75.4%\n",
      "model's current accuracy against test data       : 82.7%\n",
      "\n",
      ">>>>> 0 % done\n",
      "time to execute last 500 minibatches: 10.265930\n",
      "\n",
      "loss of last minibatch 0.896627\n",
      "accuracy on last minibatch: 75.0%\n",
      "\n",
      "model's current accuracy against validation data : 76.1%\n",
      "model's current accuracy against test data       : 82.9%\n",
      "\n",
      ">>>>> 0 % done\n",
      "time to execute last 500 minibatches: 10.660609\n",
      "\n",
      "loss of last minibatch 1.031379\n",
      "accuracy on last minibatch: 75.0%\n",
      "\n",
      "model's current accuracy against validation data : 76.2%\n",
      "model's current accuracy against test data       : 82.3%\n",
      "\n",
      ">>>>> 0 % done\n",
      "time to execute last 500 minibatches: 10.615946\n",
      "\n",
      "loss of last minibatch 0.645835\n",
      "accuracy on last minibatch: 82.8%\n",
      "\n",
      "model's current accuracy against validation data : 76.8%\n",
      "model's current accuracy against test data       : 83.3%\n",
      "\n",
      "\n",
      "Total time for 5000 iterations: 122\n"
     ]
    }
   ],
   "source": [
    "num_steps = 5000\n",
    "num_prints = 10\n",
    "beta_loss_coefficient = .01\n",
    "\n",
    "with tf.Session(graph=graph) as session:\n",
    "    initial_time = timer()\n",
    "    start = timer()\n",
    "    tf.global_variables_initializer().run()\n",
    "    print(\"Initialized\")\n",
    "    accuracies = [[],[],[]] # train, valid, test\n",
    "    \n",
    "    for step in range(num_steps):\n",
    "        offset = (step * batch_size) % (train_labels.shape[0] - batch_size)\n",
    "        batch_data = train_dataset[offset:(offset + batch_size), :]\n",
    "        batch_labels = train_labels[offset:(offset + batch_size), :]\n",
    "        feed_dict = {tf_train_dataset : batch_data, tf_train_labels : batch_labels}\n",
    "        \n",
    "        _, l, predictions = session.run([optimizer, loss, train_prediction], feed_dict=feed_dict)\n",
    "        \n",
    "        accuracies[0].append(accuracy(predictions, batch_labels))\n",
    "#         accuracies[1].append(accuracy(valid_prediction.eval(), valid_labels))\n",
    "#         accuracies[2].append(accuracy(test_prediction.eval(), test_labels))\n",
    "        \n",
    "        if (step % int(num_steps / num_prints) == 0):\n",
    "            end = timer()\n",
    "            accuracies[1].append(accuracy(valid_prediction.eval(), valid_labels))\n",
    "            accuracies[2].append(accuracy(test_prediction.eval(), test_labels))\n",
    "            log_step(start, end - start, step / num_steps, l, accuracies[0][-1], accuracies[1][-1], accuracies[2][-1])\n",
    "            start = timer()\n",
    "    print()\n",
    "    print(\"Total time for %d iterations: %d\" % (num_steps, timer() - initial_time))\n"
   ]
  },
  {
   "cell_type": "code",
   "execution_count": null,
   "metadata": {
    "collapsed": true
   },
   "outputs": [],
   "source": []
  }
 ],
 "metadata": {
  "colab": {
   "default_view": {},
   "name": "4_convolutions.ipynb",
   "provenance": [],
   "version": "0.3.2",
   "views": {}
  },
  "kernelspec": {
   "display_name": "Python 2",
   "language": "python",
   "name": "python2"
  },
  "language_info": {
   "codemirror_mode": {
    "name": "ipython",
    "version": 2
   },
   "file_extension": ".py",
   "mimetype": "text/x-python",
   "name": "python",
   "nbconvert_exporter": "python",
   "pygments_lexer": "ipython2",
   "version": "2.7.13"
  },
  "toc": {
   "colors": {
    "hover_highlight": "#DAA520",
    "running_highlight": "#FF0000",
    "selected_highlight": "#FFD700"
   },
   "moveMenuLeft": true,
   "nav_menu": {
    "height": "85px",
    "width": "252px"
   },
   "navigate_menu": true,
   "number_sections": true,
   "sideBar": true,
   "threshold": 4,
   "toc_cell": false,
   "toc_section_display": "block",
   "toc_window_display": false
  }
 },
 "nbformat": 4,
 "nbformat_minor": 0
}
