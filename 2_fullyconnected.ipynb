{
 "cells": [
  {
   "cell_type": "markdown",
   "metadata": {
    "colab_type": "text",
    "id": "kR-4eNdK6lYS"
   },
   "source": [
    "Deep Learning\n",
    "=============\n",
    "\n",
    "Assignment 2\n",
    "------------\n",
    "\n",
    "Previously in `1_notmnist.ipynb`, we created a pickle with formatted datasets for training, development and testing on the [notMNIST dataset](http://yaroslavvb.blogspot.com/2011/09/notmnist-dataset.html).\n",
    "\n",
    "The goal of this assignment is to progressively train deeper and more accurate models using TensorFlow."
   ]
  },
  {
   "cell_type": "code",
   "execution_count": 6,
   "metadata": {
    "ExecuteTime": {
     "end_time": "2017-01-28T14:45:00.306118",
     "start_time": "2017-01-28T14:45:00.286161"
    },
    "cellView": "both",
    "colab": {
     "autoexec": {
      "startup": false,
      "wait_interval": 0
     }
    },
    "colab_type": "code",
    "collapsed": false,
    "id": "JLpLa8Jt7Vu4"
   },
   "outputs": [],
   "source": [
    "# These are all the modules we'll be using later. Make sure you can import them\n",
    "# before proceeding further.\n",
    "from __future__ import print_function\n",
    "import numpy as np\n",
    "import tensorflow as tf\n",
    "from six.moves import cPickle as pickle\n",
    "from six.moves import range"
   ]
  },
  {
   "cell_type": "markdown",
   "metadata": {
    "colab_type": "text",
    "id": "1HrCK6e17WzV"
   },
   "source": [
    "First reload the data we generated in `1_notmnist.ipynb`."
   ]
  },
  {
   "cell_type": "code",
   "execution_count": 15,
   "metadata": {
    "ExecuteTime": {
     "end_time": "2017-01-28T14:52:27.613687",
     "start_time": "2017-01-28T14:52:26.167641"
    },
    "cellView": "both",
    "colab": {
     "autoexec": {
      "startup": false,
      "wait_interval": 0
     },
     "output_extras": [
      {
       "item_id": 1
      }
     ]
    },
    "colab_type": "code",
    "collapsed": false,
    "executionInfo": {
     "elapsed": 19456,
     "status": "ok",
     "timestamp": 1449847956073,
     "user": {
      "color": "",
      "displayName": "",
      "isAnonymous": false,
      "isMe": true,
      "permissionId": "",
      "photoUrl": "",
      "sessionId": "0",
      "userId": ""
     },
     "user_tz": 480
    },
    "id": "y3-cj1bpmuxc",
    "outputId": "0ddb1607-1fc4-4ddb-de28-6c7ab7fb0c33"
   },
   "outputs": [
    {
     "name": "stdout",
     "output_type": "stream",
     "text": [
      "Training set (195106, 28, 28) (195106,)\n",
      "Validation set (9840, 28, 28) (9840,)\n",
      "Test set (10000, 28, 28) (10000,)\n"
     ]
    }
   ],
   "source": [
    "pickle_file = 'notMNIST.pickle'\n",
    "\n",
    "with open(pickle_file, 'rb') as f:\n",
    "    sets = pickle.load(f)\n",
    "    save = sets['sanitized']\n",
    "    train_dataset = save[2][1]\n",
    "    train_labels = save[2][2]\n",
    "    valid_dataset = save[1][1]\n",
    "    valid_labels = save[1][2]\n",
    "    test_dataset = save[0][1]\n",
    "    test_labels = save[0][2]\n",
    "    del save  # hint to help gc free up memory\n",
    "    print('Training set', train_dataset.shape, train_labels.shape)\n",
    "    print('Validation set', valid_dataset.shape, valid_labels.shape)\n",
    "    print('Test set', test_dataset.shape, test_labels.shape)"
   ]
  },
  {
   "cell_type": "markdown",
   "metadata": {
    "colab_type": "text",
    "id": "L7aHrm6nGDMB"
   },
   "source": [
    "Reformat into a shape that's more adapted to the models we're going to train:\n",
    "- data as a flat matrix,\n",
    "- labels as float 1-hot encodings."
   ]
  },
  {
   "cell_type": "code",
   "execution_count": 16,
   "metadata": {
    "ExecuteTime": {
     "end_time": "2017-01-28T14:52:42.876823",
     "start_time": "2017-01-28T14:52:42.478297"
    },
    "cellView": "both",
    "colab": {
     "autoexec": {
      "startup": false,
      "wait_interval": 0
     },
     "output_extras": [
      {
       "item_id": 1
      }
     ]
    },
    "colab_type": "code",
    "collapsed": false,
    "executionInfo": {
     "elapsed": 19723,
     "status": "ok",
     "timestamp": 1449847956364,
     "user": {
      "color": "",
      "displayName": "",
      "isAnonymous": false,
      "isMe": true,
      "permissionId": "",
      "photoUrl": "",
      "sessionId": "0",
      "userId": ""
     },
     "user_tz": 480
    },
    "id": "IRSyYiIIGIzS",
    "outputId": "2ba0fc75-1487-4ace-a562-cf81cae82793"
   },
   "outputs": [
    {
     "name": "stdout",
     "output_type": "stream",
     "text": [
      "Training set (195106, 784) (195106, 10)\n",
      "Validation set (9840, 784) (9840, 10)\n",
      "Test set (10000, 784) (10000, 10)\n"
     ]
    }
   ],
   "source": [
    "image_size = 28\n",
    "num_labels = 10\n",
    "\n",
    "def reformat(dataset, labels):\n",
    "  dataset = dataset.reshape((-1, image_size * image_size)).astype(np.float32)\n",
    "  # Map 0 to [1.0, 0.0, 0.0 ...], 1 to [0.0, 1.0, 0.0 ...]\n",
    "  labels = (np.arange(num_labels) == labels[:,None]).astype(np.float32)\n",
    "  return dataset, labels\n",
    "train_dataset, train_labels = reformat(train_dataset, train_labels)\n",
    "valid_dataset, valid_labels = reformat(valid_dataset, valid_labels)\n",
    "test_dataset, test_labels = reformat(test_dataset, test_labels)\n",
    "print('Training set', train_dataset.shape, train_labels.shape)\n",
    "print('Validation set', valid_dataset.shape, valid_labels.shape)\n",
    "print('Test set', test_dataset.shape, test_labels.shape)"
   ]
  },
  {
   "cell_type": "markdown",
   "metadata": {
    "colab_type": "text",
    "id": "nCLVqyQ5vPPH"
   },
   "source": [
    "We're first going to train a multinomial logistic regression using simple gradient descent.\n",
    "\n",
    "TensorFlow works like this:\n",
    "* First you describe the computation that you want to see performed: what the inputs, the variables, and the operations look like. These get created as nodes over a computation graph. This description is all contained within the block below:\n",
    "\n",
    "      with graph.as_default():\n",
    "          ...\n",
    "\n",
    "* Then you can run the operations on this graph as many times as you want by calling `session.run()`, providing it outputs to fetch from the graph that get returned. This runtime operation is all contained in the block below:\n",
    "\n",
    "      with tf.Session(graph=graph) as session:\n",
    "          ...\n",
    "\n",
    "Let's load all the data into TensorFlow and build the computation graph corresponding to our training:"
   ]
  },
  {
   "cell_type": "code",
   "execution_count": 18,
   "metadata": {
    "ExecuteTime": {
     "end_time": "2017-01-28T14:57:46.933770",
     "start_time": "2017-01-28T14:57:46.790128"
    },
    "cellView": "both",
    "colab": {
     "autoexec": {
      "startup": false,
      "wait_interval": 0
     }
    },
    "colab_type": "code",
    "collapsed": true,
    "id": "Nfv39qvtvOl_"
   },
   "outputs": [],
   "source": [
    "# With gradient descent training, even this much data is prohibitive.\n",
    "# Subset the training data for faster turnaround.\n",
    "train_subset = 10000\n",
    "\n",
    "graph = tf.Graph()\n",
    "with graph.as_default():\n",
    "\n",
    "    # Input data.\n",
    "    # Load the training, validation and test data into constants that are\n",
    "    # attached to the graph.\n",
    "    tf_train_dataset = tf.constant(train_dataset[:train_subset, :])\n",
    "    tf_train_labels = tf.constant(train_labels[:train_subset])\n",
    "    tf_valid_dataset = tf.constant(valid_dataset)\n",
    "    tf_test_dataset = tf.constant(test_dataset)\n",
    "\n",
    "    # Variables.\n",
    "    # These are the parameters that we are going to be training. The weight\n",
    "    # matrix will be initialized using random values following a (truncated)\n",
    "    # normal distribution. The biases get initialized to zero.\n",
    "    weights = tf.Variable(\n",
    "    tf.truncated_normal([image_size * image_size, num_labels]))\n",
    "    biases = tf.Variable(tf.zeros([num_labels]))\n",
    "\n",
    "    # Training computation.\n",
    "    # We multiply the inputs with the weight matrix, and add biases. We compute\n",
    "    # the softmax and cross-entropy (it's one operation in TensorFlow, because\n",
    "    # it's very common, and it can be optimized). We take the average of this\n",
    "    # cross-entropy across all training examples: that's our loss.\n",
    "    logits = tf.matmul(tf_train_dataset, weights) + biases\n",
    "    loss = tf.reduce_mean(\n",
    "    tf.nn.softmax_cross_entropy_with_logits(labels=tf_train_labels, logits=logits))\n",
    "\n",
    "    # Optimizer.\n",
    "    # We are going to find the minimum of this loss using gradient descent.\n",
    "    optimizer = tf.train.GradientDescentOptimizer(0.5).minimize(loss)\n",
    "\n",
    "    # Predictions for the training, validation, and test data.\n",
    "    # These are not part of training, but merely here so that we can report\n",
    "    # accuracy figures as we train.\n",
    "    train_prediction = tf.nn.softmax(logits)\n",
    "    valid_prediction = tf.nn.softmax(\n",
    "    tf.matmul(tf_valid_dataset, weights) + biases)\n",
    "    test_prediction = tf.nn.softmax(tf.matmul(tf_test_dataset, weights) + biases)"
   ]
  },
  {
   "cell_type": "markdown",
   "metadata": {
    "colab_type": "text",
    "id": "KQcL4uqISHjP"
   },
   "source": [
    "Let's run this computation and iterate:"
   ]
  },
  {
   "cell_type": "code",
   "execution_count": 23,
   "metadata": {
    "ExecuteTime": {
     "end_time": "2017-01-28T15:04:44.347103",
     "start_time": "2017-01-28T15:04:29.508326"
    },
    "cellView": "both",
    "colab": {
     "autoexec": {
      "startup": false,
      "wait_interval": 0
     },
     "output_extras": [
      {
       "item_id": 9
      }
     ]
    },
    "colab_type": "code",
    "collapsed": false,
    "executionInfo": {
     "elapsed": 57454,
     "status": "ok",
     "timestamp": 1449847994134,
     "user": {
      "color": "",
      "displayName": "",
      "isAnonymous": false,
      "isMe": true,
      "permissionId": "",
      "photoUrl": "",
      "sessionId": "0",
      "userId": ""
     },
     "user_tz": 480
    },
    "id": "z2cjdenH869W",
    "outputId": "4c037ba1-b526-4d8e-e632-91e2a0333267"
   },
   "outputs": [
    {
     "name": "stdout",
     "output_type": "stream",
     "text": [
      "Initialized\n",
      "Loss at step 0: 16.565443\n",
      "Training accuracy: 10.0%\n",
      "Validation accuracy: 12.8%\n",
      "Test accuracy: 13.1%\n",
      "Loss at step 100: 2.423782\n",
      "Training accuracy: 71.4%\n",
      "Validation accuracy: 70.6%\n",
      "Test accuracy: 78.6%\n",
      "Loss at step 200: 1.921120\n",
      "Training accuracy: 74.4%\n",
      "Validation accuracy: 72.8%\n",
      "Test accuracy: 80.9%\n",
      "Loss at step 300: 1.653330\n",
      "Training accuracy: 75.8%\n",
      "Validation accuracy: 73.6%\n",
      "Test accuracy: 81.7%\n",
      "Loss at step 400: 1.478615\n",
      "Training accuracy: 76.7%\n",
      "Validation accuracy: 74.1%\n",
      "Test accuracy: 82.2%\n",
      "Loss at step 500: 1.351928\n",
      "Training accuracy: 77.4%\n",
      "Validation accuracy: 74.3%\n",
      "Test accuracy: 82.5%\n",
      "Loss at step 600: 1.253530\n",
      "Training accuracy: 78.0%\n",
      "Validation accuracy: 74.5%\n",
      "Test accuracy: 82.6%\n",
      "Loss at step 700: 1.173856\n",
      "Training accuracy: 78.5%\n",
      "Validation accuracy: 74.7%\n",
      "Test accuracy: 82.7%\n",
      "Loss at step 800: 1.107614\n",
      "Training accuracy: 79.1%\n",
      "Validation accuracy: 74.9%\n",
      "Test accuracy: 82.8%\n"
     ]
    }
   ],
   "source": [
    "num_steps = 801\n",
    "\n",
    "def accuracy(predictions, labels):\n",
    "    return (100.0 * np.sum(np.argmax(predictions, 1) == np.argmax(labels, 1)) / predictions.shape[0])\n",
    "\n",
    "with tf.Session(graph=graph) as session:\n",
    "    # This is a one-time operation which ensures the parameters get initialized as\n",
    "    # we described in the graph: random weights for the matrix, zeros for the\n",
    "    # biases. \n",
    "    tf.global_variables_initializer().run()\n",
    "    print('Initialized')\n",
    "    for step in range(num_steps):\n",
    "    # Run the computations. We tell .run() that we want to run the optimizer,\n",
    "    # and get the loss value and the training predictions returned as numpy\n",
    "    # arrays.\n",
    "        _, l, predictions = session.run([optimizer, loss, train_prediction])\n",
    "        if (step % 100 == 0):\n",
    "            print('Loss at step %d: %f' % (step, l))\n",
    "            print('Training accuracy: %.1f%%' % accuracy(predictions, train_labels[:train_subset, :]))\n",
    "            # Calling .eval() on valid_prediction is basically like calling run(), but\n",
    "            # just to get that one numpy array. Note that it recomputes all its graph\n",
    "            # dependencies.\n",
    "            print('Validation accuracy: %.1f%%' % accuracy(valid_prediction.eval(), valid_labels))\n",
    "            print('Test accuracy: %.1f%%' % accuracy(test_prediction.eval(), test_labels))"
   ]
  },
  {
   "cell_type": "markdown",
   "metadata": {
    "colab_type": "text",
    "id": "x68f-hxRGm3H"
   },
   "source": [
    "dfet's now switch to stochastic gradient descent training instead, which is much faster.\n",
    "\n",
    "The graph will be similar, except that instead of holding all the training data into a constant node, we create a `Placeholder` node which will be fed actual data at every call of `session.run()`."
   ]
  },
  {
   "cell_type": "code",
   "execution_count": 24,
   "metadata": {
    "ExecuteTime": {
     "end_time": "2017-01-28T15:08:35.219112",
     "start_time": "2017-01-28T15:08:35.091550"
    },
    "cellView": "both",
    "colab": {
     "autoexec": {
      "startup": false,
      "wait_interval": 0
     }
    },
    "colab_type": "code",
    "collapsed": true,
    "id": "qhPMzWYRGrzM"
   },
   "outputs": [],
   "source": [
    "batch_size = 128\n",
    "\n",
    "graph = tf.Graph()\n",
    "with graph.as_default():\n",
    "\n",
    "    # Input data. For the training data, we use a placeholder that will be fed\n",
    "    # at run time with a training minibatch.\n",
    "    tf_train_dataset = tf.placeholder(tf.float32, shape=(batch_size, image_size * image_size))\n",
    "    tf_train_labels = tf.placeholder(tf.float32, shape=(batch_size, num_labels))\n",
    "    tf_valid_dataset = tf.constant(valid_dataset)\n",
    "    tf_test_dataset = tf.constant(test_dataset)\n",
    "    \n",
    "    # Variables.\n",
    "    weights = tf.Variable(tf.truncated_normal([image_size * image_size, num_labels]))\n",
    "    biases = tf.Variable(tf.zeros([num_labels]))\n",
    "    \n",
    "    # Training computation.\n",
    "    logits = tf.matmul(tf_train_dataset, weights) + biases\n",
    "    loss = tf.reduce_mean(tf.nn.softmax_cross_entropy_with_logits(labels=tf_train_labels, logits=logits))\n",
    "    \n",
    "    # Optimizer.\n",
    "    optimizer = tf.train.GradientDescentOptimizer(0.5).minimize(loss)\n",
    "    \n",
    "    # Predictions for the training, validation, and test data.\n",
    "    train_prediction = tf.nn.softmax(logits)\n",
    "    valid_prediction = tf.nn.softmax(tf.matmul(tf_valid_dataset, weights) + biases)\n",
    "    test_prediction = tf.nn.softmax(tf.matmul(tf_test_dataset, weights) + biases)"
   ]
  },
  {
   "cell_type": "markdown",
   "metadata": {
    "colab_type": "text",
    "id": "XmVZESmtG4JH"
   },
   "source": [
    "Let's run it:"
   ]
  },
  {
   "cell_type": "code",
   "execution_count": 26,
   "metadata": {
    "ExecuteTime": {
     "end_time": "2017-01-28T15:10:36.313821",
     "start_time": "2017-01-28T15:10:33.664644"
    },
    "cellView": "both",
    "colab": {
     "autoexec": {
      "startup": false,
      "wait_interval": 0
     },
     "output_extras": [
      {
       "item_id": 6
      }
     ]
    },
    "colab_type": "code",
    "collapsed": false,
    "executionInfo": {
     "elapsed": 66292,
     "status": "ok",
     "timestamp": 1449848003013,
     "user": {
      "color": "",
      "displayName": "",
      "isAnonymous": false,
      "isMe": true,
      "permissionId": "",
      "photoUrl": "",
      "sessionId": "0",
      "userId": ""
     },
     "user_tz": 480
    },
    "id": "FoF91pknG_YW",
    "outputId": "d255c80e-954d-4183-ca1c-c7333ce91d0a"
   },
   "outputs": [
    {
     "name": "stdout",
     "output_type": "stream",
     "text": [
      "Initialized\n",
      "Minibatch loss at step 0: 18.616913\n",
      "Minibatch accuracy: 9.4%\n",
      "Validation accuracy: 13.4%\n",
      "Minibatch loss at step 500: 1.925560\n",
      "Minibatch accuracy: 68.8%\n",
      "Validation accuracy: 75.7%\n",
      "Minibatch loss at step 1000: 1.108832\n",
      "Minibatch accuracy: 81.2%\n",
      "Validation accuracy: 76.6%\n",
      "Minibatch loss at step 1500: 1.350809\n",
      "Minibatch accuracy: 75.8%\n",
      "Validation accuracy: 77.0%\n",
      "Minibatch loss at step 2000: 0.878085\n",
      "Minibatch accuracy: 79.7%\n",
      "Validation accuracy: 78.0%\n",
      "Minibatch loss at step 2500: 0.714753\n",
      "Minibatch accuracy: 78.1%\n",
      "Validation accuracy: 78.6%\n",
      "Minibatch loss at step 3000: 0.791844\n",
      "Minibatch accuracy: 81.2%\n",
      "Validation accuracy: 78.7%\n",
      "Test accuracy: 86.4%\n"
     ]
    }
   ],
   "source": [
    "num_steps = 3001\n",
    "\n",
    "with tf.Session(graph=graph) as session:\n",
    "    tf.global_variables_initializer().run()\n",
    "    print(\"Initialized\")\n",
    "    for step in range(num_steps):\n",
    "        # Pick an offset within the training data, which has been randomized.\n",
    "        # Note: we could use better randomization across epochs.\n",
    "        offset = (step * batch_size) % (train_labels.shape[0] - batch_size)\n",
    "        # Generate a minibatch.\n",
    "        batch_data = train_dataset[offset:(offset + batch_size), :]\n",
    "        batch_labels = train_labels[offset:(offset + batch_size), :]\n",
    "        # Prepare a dictionary telling the session where to feed the minibatch.\n",
    "        # The key of the dictionary is the placeholder node of the graph to be fed,\n",
    "        # and the value is the numpy array to feed to it.\n",
    "        feed_dict = {tf_train_dataset : batch_data, tf_train_labels : batch_labels}\n",
    "        _, l, predictions = session.run([optimizer, loss, train_prediction], feed_dict=feed_dict)\n",
    "        if (step % 500 == 0):\n",
    "            print(\"Minibatch loss at step %d: %f\" % (step, l))\n",
    "            print(\"Minibatch accuracy: %.1f%%\" % accuracy(predictions, batch_labels))\n",
    "            print(\"Validation accuracy: %.1f%%\" % accuracy(valid_prediction.eval(), valid_labels))\n",
    "    print(\"Test accuracy: %.1f%%\" % accuracy(test_prediction.eval(), test_labels))"
   ]
  },
  {
   "cell_type": "markdown",
   "metadata": {
    "colab_type": "text",
    "id": "7omWxtvLLxik"
   },
   "source": [
    "---\n",
    "Problem\n",
    "-------\n",
    "\n",
    "Turn the logistic regression example with SGD into a 1-hidden layer neural network with rectified linear units [nn.relu()](https://www.tensorflow.org/versions/r0.7/api_docs/python/nn.html#relu) and 1024 hidden nodes. This model should improve your validation / test accuracy.\n",
    "\n",
    "---"
   ]
  },
  {
   "cell_type": "code",
   "execution_count": 64,
   "metadata": {
    "ExecuteTime": {
     "end_time": "2017-01-28T16:04:39.127391",
     "start_time": "2017-01-28T16:04:38.959436"
    },
    "collapsed": false
   },
   "outputs": [],
   "source": [
    "batch_size = 128\n",
    "num_relus = 1024\n",
    "\n",
    "def make_weights(shape):\n",
    "    return tf.Variable(tf.truncated_normal(shape, stddev=0.1))\n",
    "\n",
    "def make_bias(shape, constant=0.1):\n",
    "    return tf.Variable(tf.constant(constant, shape=shape))\n",
    "\n",
    "graph = tf.Graph()\n",
    "with graph.as_default():\n",
    "\n",
    "    # Input data. For the training data, we use a placeholder that will be fed\n",
    "    # at run time with a training minibatch.\n",
    "    tf_train_dataset = tf.placeholder(tf.float32, shape=(batch_size, image_size * image_size))\n",
    "    tf_train_labels = tf.placeholder(tf.float32, shape=(batch_size, num_labels))\n",
    "    tf_valid_dataset = tf.constant(valid_dataset)\n",
    "    tf_test_dataset = tf.constant(test_dataset)\n",
    "    \n",
    "    # Variables.\n",
    "    \n",
    "    step1_weights = make_weights([image_size * image_size, num_relus])\n",
    "    step1_biases = make_bias([num_relus])\n",
    "    \n",
    "    step2_weights = make_weights([num_relus, num_labels])\n",
    "    step2_biases = make_bias([num_labels])\n",
    "    \n",
    "    # Training computation.\n",
    "    def run_on_data(data):\n",
    "        step1_logits = tf.matmul(data, step1_weights) + step1_biases\n",
    "        intermediate_step = tf.nn.relu(step1_logits)\n",
    "        my_logits = tf.matmul(intermediate_step, step2_weights) + step2_biases\n",
    "        return my_logits\n",
    "    \n",
    "    logits = run_on_data(tf_train_dataset)\n",
    "    loss = tf.reduce_mean(tf.nn.softmax_cross_entropy_with_logits(labels=tf_train_labels, logits=logits))\n",
    "    \n",
    "    # Optimizer.\n",
    "    optimizer = tf.train.GradientDescentOptimizer(0.5).minimize(loss)\n",
    "    \n",
    "    # Predictions for the training, validation, and test data.\n",
    "    train_prediction = tf.nn.softmax(logits)\n",
    "    valid_prediction = tf.nn.softmax(run_on_data(tf_valid_dataset))\n",
    "    test_prediction = tf.nn.softmax(run_on_data(tf_test_dataset))\n"
   ]
  },
  {
   "cell_type": "code",
   "execution_count": 77,
   "metadata": {
    "ExecuteTime": {
     "end_time": "2017-01-28T16:18:06.926565",
     "start_time": "2017-01-28T16:16:21.721874"
    },
    "collapsed": false
   },
   "outputs": [
    {
     "name": "stdout",
     "output_type": "stream",
     "text": [
      "Initialized\n",
      "_____________________________\n",
      "STEP 0\n",
      "loss 4.338041\n",
      "time to run last 400 steps: 0.185725\n",
      "Minibatch accuracy  : 10.2%\n",
      "Validation accuracy : 33.8%\n",
      "Test accuracy       : 37.1%\n",
      "_____________________________\n",
      "STEP 400\n",
      "loss 0.554116\n",
      "time to run last 400 steps: 3.765518\n",
      "Minibatch accuracy  : 86.7%\n",
      "Validation accuracy : 84.3%\n",
      "Test accuracy       : 90.9%\n",
      "_____________________________\n",
      "STEP 800\n",
      "loss 0.421553\n",
      "time to run last 400 steps: 3.769849\n",
      "Minibatch accuracy  : 87.5%\n",
      "Validation accuracy : 85.1%\n",
      "Test accuracy       : 89.9%\n",
      "_____________________________\n",
      "STEP 1200\n",
      "loss 0.398653\n",
      "time to run last 400 steps: 4.048093\n",
      "Minibatch accuracy  : 89.8%\n",
      "Validation accuracy : 86.2%\n",
      "Test accuracy       : 91.5%\n",
      "_____________________________\n",
      "STEP 1600\n",
      "loss 0.551255\n",
      "time to run last 400 steps: 3.951211\n",
      "Minibatch accuracy  : 84.4%\n",
      "Validation accuracy : 86.9%\n",
      "Test accuracy       : 93.3%\n",
      "_____________________________\n",
      "STEP 2000\n",
      "loss 0.322360\n",
      "time to run last 400 steps: 3.973101\n",
      "Minibatch accuracy  : 89.1%\n",
      "Validation accuracy : 87.0%\n",
      "Test accuracy       : 93.1%\n",
      "_____________________________\n",
      "STEP 2400\n",
      "loss 0.414408\n",
      "time to run last 400 steps: 3.996002\n",
      "Minibatch accuracy  : 87.5%\n",
      "Validation accuracy : 87.3%\n",
      "Test accuracy       : 93.7%\n",
      "_____________________________\n",
      "STEP 2800\n",
      "loss 0.407889\n",
      "time to run last 400 steps: 4.224383\n",
      "Minibatch accuracy  : 86.7%\n",
      "Validation accuracy : 88.2%\n",
      "Test accuracy       : 94.0%\n",
      "_____________________________\n",
      "STEP 3200\n",
      "loss 0.365563\n",
      "time to run last 400 steps: 4.036688\n",
      "Minibatch accuracy  : 89.1%\n",
      "Validation accuracy : 87.2%\n",
      "Test accuracy       : 93.5%\n",
      "_____________________________\n",
      "STEP 3600\n",
      "loss 0.238098\n",
      "time to run last 400 steps: 4.092382\n",
      "Minibatch accuracy  : 93.8%\n",
      "Validation accuracy : 88.0%\n",
      "Test accuracy       : 94.1%\n",
      "_____________________________\n",
      "STEP 4000\n",
      "loss 0.464061\n",
      "time to run last 400 steps: 4.178908\n",
      "Minibatch accuracy  : 85.2%\n",
      "Validation accuracy : 88.1%\n",
      "Test accuracy       : 94.0%\n",
      "_____________________________\n",
      "STEP 4400\n",
      "loss 0.374366\n",
      "time to run last 400 steps: 4.108552\n",
      "Minibatch accuracy  : 86.7%\n",
      "Validation accuracy : 87.6%\n",
      "Test accuracy       : 93.6%\n",
      "_____________________________\n",
      "STEP 4800\n",
      "loss 0.250207\n",
      "time to run last 400 steps: 4.156591\n",
      "Minibatch accuracy  : 91.4%\n",
      "Validation accuracy : 88.3%\n",
      "Test accuracy       : 94.6%\n",
      "_____________________________\n",
      "STEP 5200\n",
      "loss 0.219900\n",
      "time to run last 400 steps: 4.091538\n",
      "Minibatch accuracy  : 92.2%\n",
      "Validation accuracy : 88.5%\n",
      "Test accuracy       : 92.7%\n",
      "_____________________________\n",
      "STEP 5600\n",
      "loss 0.316868\n",
      "time to run last 400 steps: 4.158677\n",
      "Minibatch accuracy  : 90.6%\n",
      "Validation accuracy : 88.3%\n",
      "Test accuracy       : 94.7%\n",
      "_____________________________\n",
      "STEP 6000\n",
      "loss 0.340909\n",
      "time to run last 400 steps: 4.233695\n",
      "Minibatch accuracy  : 89.1%\n",
      "Validation accuracy : 88.8%\n",
      "Test accuracy       : 94.5%\n",
      "_____________________________\n",
      "STEP 6400\n",
      "loss 0.320434\n",
      "time to run last 400 steps: 4.181940\n",
      "Minibatch accuracy  : 93.8%\n",
      "Validation accuracy : 88.7%\n",
      "Test accuracy       : 94.2%\n",
      "_____________________________\n",
      "STEP 6800\n",
      "loss 0.256331\n",
      "time to run last 400 steps: 4.074537\n",
      "Minibatch accuracy  : 93.0%\n",
      "Validation accuracy : 88.3%\n",
      "Test accuracy       : 92.5%\n",
      "_____________________________\n",
      "STEP 7200\n",
      "loss 0.157115\n",
      "time to run last 400 steps: 3.934729\n",
      "Minibatch accuracy  : 95.3%\n",
      "Validation accuracy : 88.6%\n",
      "Test accuracy       : 94.7%\n",
      "_____________________________\n",
      "STEP 7600\n",
      "loss 0.193836\n",
      "time to run last 400 steps: 4.016194\n",
      "Minibatch accuracy  : 93.8%\n",
      "Validation accuracy : 88.5%\n",
      "Test accuracy       : 94.6%\n",
      "_____________________________\n",
      "STEP 8000\n",
      "loss 0.326243\n",
      "time to run last 400 steps: 3.953471\n",
      "Minibatch accuracy  : 93.0%\n",
      "Validation accuracy : 88.3%\n",
      "Test accuracy       : 94.3%\n",
      "_____________________________\n",
      "STEP 8400\n",
      "loss 0.187361\n",
      "time to run last 400 steps: 4.412135\n",
      "Minibatch accuracy  : 95.3%\n",
      "Validation accuracy : 88.9%\n",
      "Test accuracy       : 94.7%\n",
      "_____________________________\n",
      "STEP 8800\n",
      "loss 0.251741\n",
      "time to run last 400 steps: 4.610160\n",
      "Minibatch accuracy  : 91.4%\n",
      "Validation accuracy : 88.5%\n",
      "Test accuracy       : 94.8%\n",
      "_____________________________\n",
      "STEP 9200\n",
      "loss 0.266848\n",
      "time to run last 400 steps: 4.847392\n",
      "Minibatch accuracy  : 92.2%\n",
      "Validation accuracy : 89.0%\n",
      "Test accuracy       : 95.0%\n",
      "_____________________________\n",
      "STEP 9600\n",
      "loss 0.116785\n",
      "time to run last 400 steps: 4.675410\n",
      "Minibatch accuracy  : 96.1%\n",
      "Validation accuracy : 88.1%\n",
      "Test accuracy       : 94.2%\n",
      "_____________________________\n",
      "STEP 10000\n",
      "loss 0.149807\n",
      "time to run last 400 steps: 5.040632\n",
      "Minibatch accuracy  : 95.3%\n",
      "Validation accuracy : 87.3%\n",
      "Test accuracy       : 93.6%\n"
     ]
    }
   ],
   "source": [
    "from timeit import default_timer as timer\n",
    "\n",
    "num_steps = 10001\n",
    "num_prints = 25\n",
    "\n",
    "with tf.Session(graph=graph) as session:\n",
    "    start = timer()\n",
    "    tf.global_variables_initializer().run()\n",
    "    print(\"Initialized\")\n",
    "    for step in range(num_steps):\n",
    "        # Pick an offset within the training data, which has been randomized.\n",
    "        # Note: we could use better randomization across epochs.\n",
    "        offset = (step * batch_size) % (train_labels.shape[0] - batch_size)\n",
    "        # Generate a minibatch.\n",
    "        batch_data = train_dataset[offset:(offset + batch_size), :]\n",
    "        batch_labels = train_labels[offset:(offset + batch_size), :]\n",
    "        # Prepare a dictionary telling the session where to feed the minibatch.\n",
    "        # The key of the dictionary is the placeholder node of the graph to be fed,\n",
    "        # and the value is the numpy array to feed to it.\n",
    "        feed_dict = {tf_train_dataset : batch_data, tf_train_labels : batch_labels}\n",
    "        _, l, predictions = session.run([optimizer, loss, train_prediction], feed_dict=feed_dict)\n",
    "        if (step % (num_steps / num_prints) == 0):\n",
    "            print(\"_____________________________\")\n",
    "            print(\"STEP %d\" % step)\n",
    "            print(\"loss %f\" % l)\n",
    "            end = timer()\n",
    "            print(\"time to run last %d steps: %f\" % (num_steps / num_prints, end - start))\n",
    "            start = timer()\n",
    "            print(\"Minibatch accuracy  : %.1f%%\" % accuracy(predictions, batch_labels))\n",
    "            print(\"Validation accuracy : %.1f%%\" % accuracy(valid_prediction.eval(), valid_labels))\n",
    "            print(\"Test accuracy       : %.1f%%\" % accuracy(test_prediction.eval(), test_labels))"
   ]
  },
  {
   "cell_type": "code",
   "execution_count": null,
   "metadata": {
    "collapsed": true
   },
   "outputs": [],
   "source": []
  }
 ],
 "metadata": {
  "colab": {
   "default_view": {},
   "name": "2_fullyconnected.ipynb",
   "provenance": [],
   "version": "0.3.2",
   "views": {}
  },
  "kernelspec": {
   "display_name": "Python 2",
   "language": "python",
   "name": "python2"
  },
  "language_info": {
   "codemirror_mode": {
    "name": "ipython",
    "version": 2
   },
   "file_extension": ".py",
   "mimetype": "text/x-python",
   "name": "python",
   "nbconvert_exporter": "python",
   "pygments_lexer": "ipython2",
   "version": "2.7.13"
  },
  "toc": {
   "colors": {
    "hover_highlight": "#DAA520",
    "running_highlight": "#FF0000",
    "selected_highlight": "#FFD700"
   },
   "moveMenuLeft": true,
   "nav_menu": {
    "height": "66px",
    "width": "252px"
   },
   "navigate_menu": true,
   "number_sections": true,
   "sideBar": true,
   "threshold": 4,
   "toc_cell": false,
   "toc_section_display": "block",
   "toc_window_display": false
  }
 },
 "nbformat": 4,
 "nbformat_minor": 0
}
